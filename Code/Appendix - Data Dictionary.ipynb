{
 "cells": [
  {
   "cell_type": "markdown",
   "metadata": {},
   "source": [
    "<img src=\"http://imgur.com/1ZcRyrc.png\" style=\"float: left; margin: 10px; height: 20px\">\n",
    "\n",
    "# Project 3: Web APIs & NLP \n",
    "#                  Appendix  - Data Dictionary"
   ]
  },
  {
   "cell_type": "markdown",
   "metadata": {},
   "source": [
    "### Contents:\n",
    "- [Data Dictionary](#Data-Dictionary)"
   ]
  },
  {
   "cell_type": "markdown",
   "metadata": {},
   "source": [
    "## Data Dictionary"
   ]
  },
  {
   "cell_type": "markdown",
   "metadata": {},
   "source": [
    "### Dataset: Final Dataset.csv"
   ]
  },
  {
   "cell_type": "markdown",
   "metadata": {},
   "source": [
    "|Feature  |Type  |Description  |    Item in Feature and Their Meaning   |\n",
    "|:---:|:---:|:---:|:---|\n",
    "|**subreddit**|*string*|Records down whether a certain entry belongs to which category of subreddit|stocks: Entry belongs to /r/stocks|\n",
    "||||CryptoCurrency: Entry belongs to /r/CryptoCurrency/|\n",
    "|**created_utc**|*integer*|Unique 10 digit number representing date time of particular post submitted, in epoch format|Unique 10 digit number representing date time of particular post submitted, in epoch format|\n",
    "|**title**|*string*|Title of particular subreddit post submitted|Title of particular subreddit post submitted|\n",
    "|**selftext**|*string*|The contents of particular subreddit post submitted|The contents of particular subreddit post submitted|\n",
    "|**title + selftext**|*string*|A concatenation of title & contents of particular subreddit post submitted|A concatenation of title & contents of particular subreddit post submitted|\n",
    "|**title+selftext_clean**|*list of string*|A list of unique words belonging to the title and contents of particular subreddit post submitted, after removing punctuations, stopwords and being lemmantized |A list of unique words belonging to the title and contents of particular subreddit post submitted, after removing punctuations, stopwords and being lemmantized |\n",
    "|**post_length**|*integer*| The length of content of particular subreddit post submitted (by characters). | Unique integer representing length of content of particular subreddit post submitted (by characters) |\n",
    "|**post_length_word**|*integer*| The length of content of particular subreddit post submitted (by words). | Unique integer representing length of content of particular subreddit post submitted (by words) |\n",
    "|**created_utc_datetime**|*string*| Unique date time converted from epoch format to human readable date time, representing the date time of particular post submitted| Datetime in the following format: (Day of week) (Month) (Day) (Time in hour:min:sec format) (year) |\n",
    "|**month**|*string*|Unique string representing month of post being submitted|Jun: Month of June|\n",
    "||||Jul: Month of July|\n",
    "|**day**|*integer*|Unique integer representing day of month when post is being submitted|any integer between 1 to 31|\n",
    "|**hour**|*integer*|Unique integer representing hour of the day when post is being submitted|any integer between 0 to 23 (hour in 24 hour format)|\n",
    "|**title+selftext_clean_joined**|*string*|A string which join all the words in the column 'title+selftext_clean'|A string which join all the words in the column 'title+selftext_clean'|"
   ]
  }
 ],
 "metadata": {
  "kernelspec": {
   "display_name": "Python 3",
   "language": "python",
   "name": "python3"
  },
  "language_info": {
   "codemirror_mode": {
    "name": "ipython",
    "version": 3
   },
   "file_extension": ".py",
   "mimetype": "text/x-python",
   "name": "python",
   "nbconvert_exporter": "python",
   "pygments_lexer": "ipython3",
   "version": "3.8.5"
  }
 },
 "nbformat": 4,
 "nbformat_minor": 4
}
