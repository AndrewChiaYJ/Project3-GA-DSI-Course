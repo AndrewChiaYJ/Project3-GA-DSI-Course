{
 "cells": [
  {
   "cell_type": "markdown",
   "metadata": {},
   "source": [
    "<img src=\"http://imgur.com/1ZcRyrc.png\" style=\"float: left; margin: 20px; height: 100px\">\n",
    "\n",
    "# Project 3: Web APIs & NLP\n",
    "\n",
    "# Part 1: P. Statement, Background, Data Collection, Data Cleaning, NLP, and EDA"
   ]
  },
  {
   "cell_type": "markdown",
   "metadata": {},
   "source": [
    "### Contents:\n",
    "- [Problem Statement/Background](#Problem-Statement-/-Background)\n",
    "- [Data Collection](#Data-Collection)\n",
    "    - [1st Subreddit - /r/stocks](#Data-collection-for-1st-Subreddit---/r/stocks)\n",
    "    - [2nd Subreddit - /r/CryptoCurrency](#Data-collection-for-2nd-Subreddit---/r/CryptoCurrency)\n",
    "- [Data Cleaning](#Data-Cleaning)\n",
    "    - [1st Subreddit - /r/stocks](#Data-cleaning-for-1st-Subreddit---/r/stocks)\n",
    "    - [2nd Subreddit - /r/CryptoCurrency](#Data-cleaning-for-2nd-Subreddit---/r/CryptoCurrency)\n",
    "    - [Data Cleaning via Natural Language Processing (NLP) techniques](#Data-Cleaning-via-Natural-Language-Processing-Techniques)\n",
    "- [Exploratory Data Analysis](#Exploratory-Data-Analysis-(EDA))"
   ]
  },
  {
   "cell_type": "markdown",
   "metadata": {},
   "source": [
    "## Problem Statement / Background"
   ]
  },
  {
   "cell_type": "markdown",
   "metadata": {},
   "source": [
    "### Problem Statement"
   ]
  },
  {
   "cell_type": "markdown",
   "metadata": {},
   "source": [
    "This project aims to apply machine learning techniques to curate and flag irrelevant content posts within each subreddit so as to improve the quality of users’ experience and grow the active user base for better advertising revenue potential.\n",
    "\n",
    "In classifying the posts, we also want to mitigate the risk of losing users to inappropriate removal of posts when they are actually relevant to the thread."
   ]
  },
  {
   "cell_type": "markdown",
   "metadata": {},
   "source": [
    "### Background"
   ]
  },
  {
   "cell_type": "markdown",
   "metadata": {},
   "source": [
    "**Situation on Reddit in the year 2020**\n",
    "1. 52 Million Daily Users\n",
    "2. 303.4 Million posts\n",
    "3. 49.2 Billion Upvotes\n",
    "\n",
    "There are so many users using Reddit, as suggested by the statistics above. One of the reasons is that content optimsation is being emphasised in Reddit, and this is a cornerstone with high impact on user retention, engagement and growth. In the year 2020, there are more than 100 million posts removed in 2020 by moderators.\n",
    "\n",
    "There are 2 types of moderators in Reddit.\n",
    "1) **Human Moderator**\n",
    "- There are >70,000 volunteers who volunteer their time to help guide and create Reddit's many communities.\n",
    "- They are able to do the followings:\n",
    "    - Report or remove comments or submissions containing certain words or phrases.\n",
    "    - Ban spammers or other redditors who may be breaking community rules from posting or commenting in their community.\n",
    "\n",
    "\n",
    "2) **Auto Moderator**\n",
    "- Auto moderator tool is introduced in 2019. \n",
    "- It is a system built into reddit that allows moderators to define \"rules\" to be automatically applied to posts in their subreddit.\n",
    "- The Auto Moderator is able to report or remove comments or submissions containing certain words or phrases.\n",
    "\n",
    "In order to improve moderation efforts and content optimsation to make a more vibrant reddit community, we can:\n",
    "1) Scope to further curate posts for relevance, as relevant posts keep users reading and engaged.\n",
    "\n",
    "2) Ease the moderation work by leveraging on machine learning tools to help moderators complete key tasks with less time. We can also do so by having more moderators stepping up to support communities.\n",
    "\n",
    "\n"
   ]
  },
  {
   "cell_type": "markdown",
   "metadata": {},
   "source": [
    "## Data Collection"
   ]
  },
  {
   "cell_type": "markdown",
   "metadata": {},
   "source": [
    "### Data collection for 1st Subreddit - /r/stocks"
   ]
  },
  {
   "cell_type": "markdown",
   "metadata": {},
   "source": [
    "#### 1. Import all necessary libraries"
   ]
  },
  {
   "cell_type": "code",
   "execution_count": 1,
   "metadata": {},
   "outputs": [
    {
     "name": "stderr",
     "output_type": "stream",
     "text": [
      "C:\\Users\\chiay\\anaconda3\\lib\\site-packages\\gensim\\similarities\\__init__.py:15: UserWarning: The gensim.similarities.levenshtein submodule is disabled, because the optional Levenshtein package <https://pypi.org/project/python-Levenshtein/> is unavailable. Install Levenhstein (e.g. `pip install python-Levenshtein`) to suppress this warning.\n",
      "  warnings.warn(msg)\n"
     ]
    }
   ],
   "source": [
    "# Import all necessary libraries\n",
    "import numpy as np\n",
    "import pandas as pd\n",
    "import matplotlib.pyplot as plt\n",
    "import seaborn as sns\n",
    "import requests\n",
    "import time\n",
    "import datetime as dt\n",
    "import re\n",
    "import string\n",
    "import nltk\n",
    "import gensim\n",
    "\n",
    "from sklearn.feature_extraction.text import CountVectorizer\n",
    "from sklearn.feature_extraction.text import TfidfVectorizer\n",
    "from sklearn.model_selection import train_test_split, cross_val_score\n",
    "from sklearn.metrics import confusion_matrix\n",
    "from sklearn.metrics import classification_report\n",
    "from sklearn.metrics import accuracy_score, precision_score, recall_score\n",
    "from sklearn.linear_model import LogisticRegression\n",
    "\n",
    "from sklearn.naive_bayes import BernoulliNB\n",
    "from sklearn.naive_bayes import GaussianNB\n",
    "from sklearn.naive_bayes import MultinomialNB"
   ]
  },
  {
   "cell_type": "code",
   "execution_count": 2,
   "metadata": {},
   "outputs": [],
   "source": [
    "# Setting to see max columns and rows\n",
    "#pd.set_option('display.max_columns', None)\n",
    "#pd.set_option('display.max_rows', None)"
   ]
  },
  {
   "cell_type": "markdown",
   "metadata": {},
   "source": [
    "#### 2. Pull the Subreddit data Using Pushshift API"
   ]
  },
  {
   "cell_type": "code",
   "execution_count": 3,
   "metadata": {},
   "outputs": [],
   "source": [
    "# Store the url of the reddit page into 'url'\n",
    "url = 'https://api.pushshift.io/reddit/search/submission'"
   ]
  },
  {
   "cell_type": "code",
   "execution_count": 4,
   "metadata": {
    "scrolled": true
   },
   "outputs": [],
   "source": [
    "# Initiate an empty list 'mylist'\n",
    "mylist = []\n",
    "\n",
    "# Set the parameters for the pushshift api\n",
    "params = {\n",
    "    'size' : 100,\n",
    "    'subreddit': 'stocks',\n",
    "    'before':1626851005\n",
    "}\n",
    "\n",
    "# Create for loop of 51 times\n",
    "for i in range(51):\n",
    "\n",
    "    # Request the data from stock_url using paramaters defined in params\n",
    "    res = requests.get(url, params)\n",
    "    \n",
    "    if res.status_code == 200:               # Only run following codes when res status code == 200, which means it's working.\n",
    "        data = res.json()                    # Store the data in json form\n",
    "        stocks = pd.DataFrame(data['data'])  # Store the data pulled into a dataframe 'stocks'\n",
    "        stocks = stocks[[\"subreddit\", \"created_utc\", \"title\", \"selftext\"]]  # only store data of 4 columns\n",
    "        mylist.append(stocks)                                               # Append the 'stocks' dataframe into 'mylist' list\n",
    "        params['before'] = stocks.iloc[-1,1]                                # Set the 'before' of params to be the last 'created_utc'\n",
    "        time.sleep(10)                                                      # Set sleep timer\n",
    "    else:\n",
    "        print('Error! Status Code not 200')                                 # give warning if status code is not 200 (not working)\n",
    "    \n",
    "    # Compile all posts into full list    \n",
    "full_stock = pd.concat(mylist, sort=False)\n",
    "   "
   ]
  },
  {
   "cell_type": "code",
   "execution_count": 5,
   "metadata": {},
   "outputs": [
    {
     "data": {
      "text/html": [
       "<div>\n",
       "<style scoped>\n",
       "    .dataframe tbody tr th:only-of-type {\n",
       "        vertical-align: middle;\n",
       "    }\n",
       "\n",
       "    .dataframe tbody tr th {\n",
       "        vertical-align: top;\n",
       "    }\n",
       "\n",
       "    .dataframe thead th {\n",
       "        text-align: right;\n",
       "    }\n",
       "</style>\n",
       "<table border=\"1\" class=\"dataframe\">\n",
       "  <thead>\n",
       "    <tr style=\"text-align: right;\">\n",
       "      <th></th>\n",
       "      <th>subreddit</th>\n",
       "      <th>created_utc</th>\n",
       "      <th>title</th>\n",
       "      <th>selftext</th>\n",
       "    </tr>\n",
       "  </thead>\n",
       "  <tbody>\n",
       "    <tr>\n",
       "      <th>0</th>\n",
       "      <td>stocks</td>\n",
       "      <td>1626851004</td>\n",
       "      <td>Advise on Long Term Stock?</td>\n",
       "      <td>I am earning very little at the moment but I w...</td>\n",
       "    </tr>\n",
       "    <tr>\n",
       "      <th>1</th>\n",
       "      <td>stocks</td>\n",
       "      <td>1626847571</td>\n",
       "      <td>Earning plays</td>\n",
       "      <td>[removed]</td>\n",
       "    </tr>\n",
       "    <tr>\n",
       "      <th>2</th>\n",
       "      <td>stocks</td>\n",
       "      <td>1626847468</td>\n",
       "      <td>Going long vega? what is the maximum loss?</td>\n",
       "      <td>[removed]</td>\n",
       "    </tr>\n",
       "    <tr>\n",
       "      <th>3</th>\n",
       "      <td>stocks</td>\n",
       "      <td>1626847423</td>\n",
       "      <td>Dad told me to sell on Monday when the market ...</td>\n",
       "      <td>The stocks I chose were aapl, net, asts, icln,...</td>\n",
       "    </tr>\n",
       "    <tr>\n",
       "      <th>4</th>\n",
       "      <td>stocks</td>\n",
       "      <td>1626847066</td>\n",
       "      <td>Newbie trader. Dad told me to sell when the ma...</td>\n",
       "      <td>[removed]</td>\n",
       "    </tr>\n",
       "  </tbody>\n",
       "</table>\n",
       "</div>"
      ],
      "text/plain": [
       "  subreddit  created_utc                                              title  \\\n",
       "0    stocks   1626851004                         Advise on Long Term Stock?   \n",
       "1    stocks   1626847571                                      Earning plays   \n",
       "2    stocks   1626847468         Going long vega? what is the maximum loss?   \n",
       "3    stocks   1626847423  Dad told me to sell on Monday when the market ...   \n",
       "4    stocks   1626847066  Newbie trader. Dad told me to sell when the ma...   \n",
       "\n",
       "                                            selftext  \n",
       "0  I am earning very little at the moment but I w...  \n",
       "1                                          [removed]  \n",
       "2                                          [removed]  \n",
       "3  The stocks I chose were aapl, net, asts, icln,...  \n",
       "4                                          [removed]  "
      ]
     },
     "execution_count": 5,
     "metadata": {},
     "output_type": "execute_result"
    }
   ],
   "source": [
    "# Print a few rows of dataframe 'full_stock'\n",
    "full_stock.head()"
   ]
  },
  {
   "cell_type": "code",
   "execution_count": 6,
   "metadata": {},
   "outputs": [
    {
     "data": {
      "text/plain": [
       "(5100, 4)"
      ]
     },
     "execution_count": 6,
     "metadata": {},
     "output_type": "execute_result"
    }
   ],
   "source": [
    "# Check the shape of 'full_stock'\n",
    "full_stock.shape"
   ]
  },
  {
   "cell_type": "markdown",
   "metadata": {},
   "source": [
    "### Data collection for 2nd Subreddit - /r/CryptoCurrency"
   ]
  },
  {
   "cell_type": "markdown",
   "metadata": {},
   "source": [
    "#### 1. Pull the Subreddit data Using Pushshift API"
   ]
  },
  {
   "cell_type": "code",
   "execution_count": 7,
   "metadata": {},
   "outputs": [],
   "source": [
    "# Store the url of the reddit page into 'url'\n",
    "url = 'https://api.pushshift.io/reddit/search/submission'"
   ]
  },
  {
   "cell_type": "code",
   "execution_count": 8,
   "metadata": {},
   "outputs": [],
   "source": [
    "# Initiate an empty list 'secondlist'\n",
    "secondlist = []\n",
    "\n",
    "# Set the parameters for the pushshift api\n",
    "params = {\n",
    "    'size' : 100,\n",
    "    'subreddit': 'CryptoCurrency',\n",
    "    'before':1626851005\n",
    "}\n",
    "\n",
    "# Create for loop of 51 times\n",
    "for i in range(51):\n",
    "\n",
    "    # Request the data from stock_url using paramaters defined in params\n",
    "    res = requests.get(url, params)\n",
    "    \n",
    "    if res.status_code == 200:               # Only run following codes when res status code == 200, which means it's working.\n",
    "        data = res.json()                    # Store the data in json form\n",
    "        crypto = pd.DataFrame(data['data'])  # Store the data pulled into a dataframe 'crypto'\n",
    "        crypto = crypto[[\"subreddit\", \"created_utc\", \"title\", \"selftext\"]]  # only store data of 4 columns\n",
    "        secondlist.append(crypto)                                           # Append the 'crypto' dataframe into 'secondlist' list\n",
    "        params['before'] = crypto.iloc[-1,1]                                # Set the 'before' of params to be the last 'created_utc'\n",
    "        time.sleep(10)                                                       # Set sleep timer\n",
    "    else:\n",
    "        print('Error! Status Code not 200')                                 # give warning if status code is not 200 (not working)\n",
    "    \n",
    "    # Compile all posts into full list    \n",
    "full_crypto = pd.concat(secondlist, sort=False)"
   ]
  },
  {
   "cell_type": "code",
   "execution_count": 9,
   "metadata": {},
   "outputs": [
    {
     "data": {
      "text/html": [
       "<div>\n",
       "<style scoped>\n",
       "    .dataframe tbody tr th:only-of-type {\n",
       "        vertical-align: middle;\n",
       "    }\n",
       "\n",
       "    .dataframe tbody tr th {\n",
       "        vertical-align: top;\n",
       "    }\n",
       "\n",
       "    .dataframe thead th {\n",
       "        text-align: right;\n",
       "    }\n",
       "</style>\n",
       "<table border=\"1\" class=\"dataframe\">\n",
       "  <thead>\n",
       "    <tr style=\"text-align: right;\">\n",
       "      <th></th>\n",
       "      <th>subreddit</th>\n",
       "      <th>created_utc</th>\n",
       "      <th>title</th>\n",
       "      <th>selftext</th>\n",
       "    </tr>\n",
       "  </thead>\n",
       "  <tbody>\n",
       "    <tr>\n",
       "      <th>0</th>\n",
       "      <td>CryptoCurrency</td>\n",
       "      <td>1626850949</td>\n",
       "      <td>Should I create a gymkhana with all my cryptoc...</td>\n",
       "      <td>Hello everyone, yesterday I was thinking about...</td>\n",
       "    </tr>\n",
       "    <tr>\n",
       "      <th>1</th>\n",
       "      <td>CryptoCurrency</td>\n",
       "      <td>1626850702</td>\n",
       "      <td>A country’s ban on crypto is only valid if you...</td>\n",
       "      <td>So I don’t understand why countries can ban cr...</td>\n",
       "    </tr>\n",
       "    <tr>\n",
       "      <th>2</th>\n",
       "      <td>CryptoCurrency</td>\n",
       "      <td>1626850642</td>\n",
       "      <td>I was already convinced. Fibonacci golden rati...</td>\n",
       "      <td>Listen, nothing you read on the internet is fi...</td>\n",
       "    </tr>\n",
       "    <tr>\n",
       "      <th>3</th>\n",
       "      <td>CryptoCurrency</td>\n",
       "      <td>1626850580</td>\n",
       "      <td>*According to Research From Fidelity * - 71% o...</td>\n",
       "      <td></td>\n",
       "    </tr>\n",
       "    <tr>\n",
       "      <th>4</th>\n",
       "      <td>CryptoCurrency</td>\n",
       "      <td>1626850543</td>\n",
       "      <td>Illegal Crypto Miners in Ukraine Found Manipul...</td>\n",
       "      <td></td>\n",
       "    </tr>\n",
       "  </tbody>\n",
       "</table>\n",
       "</div>"
      ],
      "text/plain": [
       "        subreddit  created_utc  \\\n",
       "0  CryptoCurrency   1626850949   \n",
       "1  CryptoCurrency   1626850702   \n",
       "2  CryptoCurrency   1626850642   \n",
       "3  CryptoCurrency   1626850580   \n",
       "4  CryptoCurrency   1626850543   \n",
       "\n",
       "                                               title  \\\n",
       "0  Should I create a gymkhana with all my cryptoc...   \n",
       "1  A country’s ban on crypto is only valid if you...   \n",
       "2  I was already convinced. Fibonacci golden rati...   \n",
       "3  *According to Research From Fidelity * - 71% o...   \n",
       "4  Illegal Crypto Miners in Ukraine Found Manipul...   \n",
       "\n",
       "                                            selftext  \n",
       "0  Hello everyone, yesterday I was thinking about...  \n",
       "1  So I don’t understand why countries can ban cr...  \n",
       "2  Listen, nothing you read on the internet is fi...  \n",
       "3                                                     \n",
       "4                                                     "
      ]
     },
     "execution_count": 9,
     "metadata": {},
     "output_type": "execute_result"
    }
   ],
   "source": [
    "# Print a few rows of dataframe 'full_crypto'\n",
    "full_crypto.head()"
   ]
  },
  {
   "cell_type": "code",
   "execution_count": 10,
   "metadata": {},
   "outputs": [
    {
     "data": {
      "text/plain": [
       "(5096, 4)"
      ]
     },
     "execution_count": 10,
     "metadata": {},
     "output_type": "execute_result"
    }
   ],
   "source": [
    "# Print the number of rows and columns of full_stock\n",
    "full_crypto.shape"
   ]
  },
  {
   "cell_type": "markdown",
   "metadata": {},
   "source": [
    "# Data Cleaning"
   ]
  },
  {
   "cell_type": "markdown",
   "metadata": {},
   "source": [
    "### Data cleaning for 1st Subreddit - /r/stocks"
   ]
  },
  {
   "cell_type": "markdown",
   "metadata": {},
   "source": [
    "#### 1. Filter null data / [removed] / blank data"
   ]
  },
  {
   "cell_type": "code",
   "execution_count": 11,
   "metadata": {
    "scrolled": true
   },
   "outputs": [
    {
     "data": {
      "text/plain": [
       "subreddit       0\n",
       "created_utc     0\n",
       "title           0\n",
       "selftext       13\n",
       "dtype: int64"
      ]
     },
     "execution_count": 11,
     "metadata": {},
     "output_type": "execute_result"
    }
   ],
   "source": [
    "# Search the number of rows having null value\n",
    "full_stock.isnull().sum()"
   ]
  },
  {
   "cell_type": "code",
   "execution_count": 12,
   "metadata": {},
   "outputs": [],
   "source": [
    "# Drop the 13 rows with null values\n",
    "full_stock.dropna(inplace = True)"
   ]
  },
  {
   "cell_type": "code",
   "execution_count": 13,
   "metadata": {},
   "outputs": [
    {
     "data": {
      "text/plain": [
       "(5087, 4)"
      ]
     },
     "execution_count": 13,
     "metadata": {},
     "output_type": "execute_result"
    }
   ],
   "source": [
    "# Check the number of rows there is now\n",
    "full_stock.shape\n",
    "\n",
    "# There is 5087 rows."
   ]
  },
  {
   "cell_type": "code",
   "execution_count": 14,
   "metadata": {},
   "outputs": [
    {
     "data": {
      "text/html": [
       "<div>\n",
       "<style scoped>\n",
       "    .dataframe tbody tr th:only-of-type {\n",
       "        vertical-align: middle;\n",
       "    }\n",
       "\n",
       "    .dataframe tbody tr th {\n",
       "        vertical-align: top;\n",
       "    }\n",
       "\n",
       "    .dataframe thead th {\n",
       "        text-align: right;\n",
       "    }\n",
       "</style>\n",
       "<table border=\"1\" class=\"dataframe\">\n",
       "  <thead>\n",
       "    <tr style=\"text-align: right;\">\n",
       "      <th></th>\n",
       "      <th>subreddit</th>\n",
       "      <th>created_utc</th>\n",
       "      <th>title</th>\n",
       "      <th>selftext</th>\n",
       "    </tr>\n",
       "  </thead>\n",
       "  <tbody>\n",
       "    <tr>\n",
       "      <th>0</th>\n",
       "      <td>stocks</td>\n",
       "      <td>1626851004</td>\n",
       "      <td>Advise on Long Term Stock?</td>\n",
       "      <td>I am earning very little at the moment but I w...</td>\n",
       "    </tr>\n",
       "    <tr>\n",
       "      <th>1</th>\n",
       "      <td>stocks</td>\n",
       "      <td>1626847571</td>\n",
       "      <td>Earning plays</td>\n",
       "      <td>[removed]</td>\n",
       "    </tr>\n",
       "    <tr>\n",
       "      <th>2</th>\n",
       "      <td>stocks</td>\n",
       "      <td>1626847468</td>\n",
       "      <td>Going long vega? what is the maximum loss?</td>\n",
       "      <td>[removed]</td>\n",
       "    </tr>\n",
       "    <tr>\n",
       "      <th>3</th>\n",
       "      <td>stocks</td>\n",
       "      <td>1626847423</td>\n",
       "      <td>Dad told me to sell on Monday when the market ...</td>\n",
       "      <td>The stocks I chose were aapl, net, asts, icln,...</td>\n",
       "    </tr>\n",
       "    <tr>\n",
       "      <th>4</th>\n",
       "      <td>stocks</td>\n",
       "      <td>1626847066</td>\n",
       "      <td>Newbie trader. Dad told me to sell when the ma...</td>\n",
       "      <td>[removed]</td>\n",
       "    </tr>\n",
       "  </tbody>\n",
       "</table>\n",
       "</div>"
      ],
      "text/plain": [
       "  subreddit  created_utc                                              title  \\\n",
       "0    stocks   1626851004                         Advise on Long Term Stock?   \n",
       "1    stocks   1626847571                                      Earning plays   \n",
       "2    stocks   1626847468         Going long vega? what is the maximum loss?   \n",
       "3    stocks   1626847423  Dad told me to sell on Monday when the market ...   \n",
       "4    stocks   1626847066  Newbie trader. Dad told me to sell when the ma...   \n",
       "\n",
       "                                            selftext  \n",
       "0  I am earning very little at the moment but I w...  \n",
       "1                                          [removed]  \n",
       "2                                          [removed]  \n",
       "3  The stocks I chose were aapl, net, asts, icln,...  \n",
       "4                                          [removed]  "
      ]
     },
     "execution_count": 14,
     "metadata": {},
     "output_type": "execute_result"
    }
   ],
   "source": [
    "# Print a few rows\n",
    "full_stock.head()\n",
    "\n",
    "# Observe [removed] in selftext"
   ]
  },
  {
   "cell_type": "code",
   "execution_count": 15,
   "metadata": {},
   "outputs": [],
   "source": [
    "# Filter all data with selftext = [removed] and store it in another dataframe 'final_stock'\n",
    "final_stock = full_stock[(full_stock[\"selftext\"]!=\"[removed]\")]"
   ]
  },
  {
   "cell_type": "code",
   "execution_count": 16,
   "metadata": {},
   "outputs": [
    {
     "data": {
      "text/plain": [
       "(1796, 4)"
      ]
     },
     "execution_count": 16,
     "metadata": {},
     "output_type": "execute_result"
    }
   ],
   "source": [
    "# Check the shape of 'final_stock'\n",
    "final_stock.shape\n",
    "\n",
    "# Observe 1796 rows."
   ]
  },
  {
   "cell_type": "code",
   "execution_count": 17,
   "metadata": {},
   "outputs": [
    {
     "data": {
      "text/plain": [
       "1"
      ]
     },
     "execution_count": 17,
     "metadata": {},
     "output_type": "execute_result"
    }
   ],
   "source": [
    "# Observe there is 1 row with blank data\n",
    "blank = final_stock[\"selftext\"]==\"\"\n",
    "blank.sum()"
   ]
  },
  {
   "cell_type": "code",
   "execution_count": 18,
   "metadata": {},
   "outputs": [],
   "source": [
    "# Filter the blank row\n",
    "final_stock = final_stock[(final_stock[\"selftext\"]!=\"\")]"
   ]
  },
  {
   "cell_type": "code",
   "execution_count": 19,
   "metadata": {
    "scrolled": true
   },
   "outputs": [
    {
     "data": {
      "text/plain": [
       "(1795, 4)"
      ]
     },
     "execution_count": 19,
     "metadata": {},
     "output_type": "execute_result"
    }
   ],
   "source": [
    "# Print the number of rows and columns of final_stock\n",
    "final_stock.shape\n",
    "\n",
    "# Observe 1795 rows."
   ]
  },
  {
   "cell_type": "markdown",
   "metadata": {},
   "source": [
    "#### 2. Remove duplicate entries"
   ]
  },
  {
   "cell_type": "code",
   "execution_count": 20,
   "metadata": {},
   "outputs": [],
   "source": [
    "# Remove duplicate entries\n",
    "final_stock.drop_duplicates(subset=[\"selftext\"], keep='last', inplace = True)"
   ]
  },
  {
   "cell_type": "code",
   "execution_count": 21,
   "metadata": {},
   "outputs": [
    {
     "data": {
      "text/plain": [
       "(1746, 4)"
      ]
     },
     "execution_count": 21,
     "metadata": {},
     "output_type": "execute_result"
    }
   ],
   "source": [
    "# Print the number of rows and columns of final_stock\n",
    "final_stock.shape\n",
    "\n",
    "# Observe 1746 rows."
   ]
  },
  {
   "cell_type": "markdown",
   "metadata": {},
   "source": [
    "#### 3. Synchronize the amount of rows in both dataframe to be 1700"
   ]
  },
  {
   "cell_type": "code",
   "execution_count": 22,
   "metadata": {},
   "outputs": [],
   "source": [
    "# Drop the last 46 rows to synchronize the amount of rows to be 1700\n",
    "final_stock = final_stock[0:1700]"
   ]
  },
  {
   "cell_type": "code",
   "execution_count": 23,
   "metadata": {},
   "outputs": [
    {
     "data": {
      "text/plain": [
       "(1700, 4)"
      ]
     },
     "execution_count": 23,
     "metadata": {},
     "output_type": "execute_result"
    }
   ],
   "source": [
    "# Print the number of rows and columns of final_stock\n",
    "final_stock.shape\n",
    "\n",
    "# Observe 1700 rows."
   ]
  },
  {
   "cell_type": "markdown",
   "metadata": {},
   "source": [
    "### Data cleaning for 2nd Subreddit - /r/CryptoCurrency"
   ]
  },
  {
   "cell_type": "markdown",
   "metadata": {},
   "source": [
    "#### 1. Filter null data / [removed] / blank data"
   ]
  },
  {
   "cell_type": "code",
   "execution_count": 24,
   "metadata": {},
   "outputs": [
    {
     "data": {
      "text/plain": [
       "subreddit      0\n",
       "created_utc    0\n",
       "title          0\n",
       "selftext       9\n",
       "dtype: int64"
      ]
     },
     "execution_count": 24,
     "metadata": {},
     "output_type": "execute_result"
    }
   ],
   "source": [
    "# Search the number of rows having null value\n",
    "full_crypto.isnull().sum()"
   ]
  },
  {
   "cell_type": "code",
   "execution_count": 25,
   "metadata": {},
   "outputs": [],
   "source": [
    "# Drop the 9 rows with null values\n",
    "full_crypto.dropna(inplace = True)"
   ]
  },
  {
   "cell_type": "code",
   "execution_count": 26,
   "metadata": {},
   "outputs": [
    {
     "data": {
      "text/html": [
       "<div>\n",
       "<style scoped>\n",
       "    .dataframe tbody tr th:only-of-type {\n",
       "        vertical-align: middle;\n",
       "    }\n",
       "\n",
       "    .dataframe tbody tr th {\n",
       "        vertical-align: top;\n",
       "    }\n",
       "\n",
       "    .dataframe thead th {\n",
       "        text-align: right;\n",
       "    }\n",
       "</style>\n",
       "<table border=\"1\" class=\"dataframe\">\n",
       "  <thead>\n",
       "    <tr style=\"text-align: right;\">\n",
       "      <th></th>\n",
       "      <th>subreddit</th>\n",
       "      <th>created_utc</th>\n",
       "      <th>title</th>\n",
       "      <th>selftext</th>\n",
       "    </tr>\n",
       "  </thead>\n",
       "  <tbody>\n",
       "    <tr>\n",
       "      <th>0</th>\n",
       "      <td>CryptoCurrency</td>\n",
       "      <td>1626850949</td>\n",
       "      <td>Should I create a gymkhana with all my cryptoc...</td>\n",
       "      <td>Hello everyone, yesterday I was thinking about...</td>\n",
       "    </tr>\n",
       "    <tr>\n",
       "      <th>1</th>\n",
       "      <td>CryptoCurrency</td>\n",
       "      <td>1626850702</td>\n",
       "      <td>A country’s ban on crypto is only valid if you...</td>\n",
       "      <td>So I don’t understand why countries can ban cr...</td>\n",
       "    </tr>\n",
       "    <tr>\n",
       "      <th>2</th>\n",
       "      <td>CryptoCurrency</td>\n",
       "      <td>1626850642</td>\n",
       "      <td>I was already convinced. Fibonacci golden rati...</td>\n",
       "      <td>Listen, nothing you read on the internet is fi...</td>\n",
       "    </tr>\n",
       "    <tr>\n",
       "      <th>3</th>\n",
       "      <td>CryptoCurrency</td>\n",
       "      <td>1626850580</td>\n",
       "      <td>*According to Research From Fidelity * - 71% o...</td>\n",
       "      <td></td>\n",
       "    </tr>\n",
       "    <tr>\n",
       "      <th>4</th>\n",
       "      <td>CryptoCurrency</td>\n",
       "      <td>1626850543</td>\n",
       "      <td>Illegal Crypto Miners in Ukraine Found Manipul...</td>\n",
       "      <td></td>\n",
       "    </tr>\n",
       "  </tbody>\n",
       "</table>\n",
       "</div>"
      ],
      "text/plain": [
       "        subreddit  created_utc  \\\n",
       "0  CryptoCurrency   1626850949   \n",
       "1  CryptoCurrency   1626850702   \n",
       "2  CryptoCurrency   1626850642   \n",
       "3  CryptoCurrency   1626850580   \n",
       "4  CryptoCurrency   1626850543   \n",
       "\n",
       "                                               title  \\\n",
       "0  Should I create a gymkhana with all my cryptoc...   \n",
       "1  A country’s ban on crypto is only valid if you...   \n",
       "2  I was already convinced. Fibonacci golden rati...   \n",
       "3  *According to Research From Fidelity * - 71% o...   \n",
       "4  Illegal Crypto Miners in Ukraine Found Manipul...   \n",
       "\n",
       "                                            selftext  \n",
       "0  Hello everyone, yesterday I was thinking about...  \n",
       "1  So I don’t understand why countries can ban cr...  \n",
       "2  Listen, nothing you read on the internet is fi...  \n",
       "3                                                     \n",
       "4                                                     "
      ]
     },
     "execution_count": 26,
     "metadata": {},
     "output_type": "execute_result"
    }
   ],
   "source": [
    "# Print a few rows\n",
    "full_crypto.head()\n",
    "\n",
    "# Observe blanks in selftext"
   ]
  },
  {
   "cell_type": "code",
   "execution_count": 27,
   "metadata": {},
   "outputs": [
    {
     "data": {
      "text/plain": [
       "1864"
      ]
     },
     "execution_count": 27,
     "metadata": {},
     "output_type": "execute_result"
    }
   ],
   "source": [
    "# Observe there are 1866 row with blank data\n",
    "blank = full_crypto[\"selftext\"]==\"\"\n",
    "blank.sum()"
   ]
  },
  {
   "cell_type": "code",
   "execution_count": 28,
   "metadata": {},
   "outputs": [],
   "source": [
    "# Filter the blank rows and store it in new dataframe 'final_crypto'\n",
    "final_crypto = full_crypto[(full_crypto[\"selftext\"]!=\"\")]"
   ]
  },
  {
   "cell_type": "code",
   "execution_count": 29,
   "metadata": {},
   "outputs": [
    {
     "data": {
      "text/plain": [
       "(3223, 4)"
      ]
     },
     "execution_count": 29,
     "metadata": {},
     "output_type": "execute_result"
    }
   ],
   "source": [
    "# Find the shape of 'final_crypto'\n",
    "final_crypto.shape"
   ]
  },
  {
   "cell_type": "code",
   "execution_count": 30,
   "metadata": {},
   "outputs": [
    {
     "data": {
      "text/html": [
       "<div>\n",
       "<style scoped>\n",
       "    .dataframe tbody tr th:only-of-type {\n",
       "        vertical-align: middle;\n",
       "    }\n",
       "\n",
       "    .dataframe tbody tr th {\n",
       "        vertical-align: top;\n",
       "    }\n",
       "\n",
       "    .dataframe thead th {\n",
       "        text-align: right;\n",
       "    }\n",
       "</style>\n",
       "<table border=\"1\" class=\"dataframe\">\n",
       "  <thead>\n",
       "    <tr style=\"text-align: right;\">\n",
       "      <th></th>\n",
       "      <th>subreddit</th>\n",
       "      <th>created_utc</th>\n",
       "      <th>title</th>\n",
       "      <th>selftext</th>\n",
       "    </tr>\n",
       "  </thead>\n",
       "  <tbody>\n",
       "    <tr>\n",
       "      <th>0</th>\n",
       "      <td>CryptoCurrency</td>\n",
       "      <td>1626850949</td>\n",
       "      <td>Should I create a gymkhana with all my cryptoc...</td>\n",
       "      <td>Hello everyone, yesterday I was thinking about...</td>\n",
       "    </tr>\n",
       "    <tr>\n",
       "      <th>1</th>\n",
       "      <td>CryptoCurrency</td>\n",
       "      <td>1626850702</td>\n",
       "      <td>A country’s ban on crypto is only valid if you...</td>\n",
       "      <td>So I don’t understand why countries can ban cr...</td>\n",
       "    </tr>\n",
       "    <tr>\n",
       "      <th>2</th>\n",
       "      <td>CryptoCurrency</td>\n",
       "      <td>1626850642</td>\n",
       "      <td>I was already convinced. Fibonacci golden rati...</td>\n",
       "      <td>Listen, nothing you read on the internet is fi...</td>\n",
       "    </tr>\n",
       "    <tr>\n",
       "      <th>5</th>\n",
       "      <td>CryptoCurrency</td>\n",
       "      <td>1626850492</td>\n",
       "      <td>Defiant</td>\n",
       "      <td>[removed]</td>\n",
       "    </tr>\n",
       "    <tr>\n",
       "      <th>7</th>\n",
       "      <td>CryptoCurrency</td>\n",
       "      <td>1626850270</td>\n",
       "      <td>PathFund an Interesting Project.</td>\n",
       "      <td>[removed]</td>\n",
       "    </tr>\n",
       "    <tr>\n",
       "      <th>9</th>\n",
       "      <td>CryptoCurrency</td>\n",
       "      <td>1626850097</td>\n",
       "      <td>From riches to rags</td>\n",
       "      <td>7 months ago I invested 9000$ in crypto, I inv...</td>\n",
       "    </tr>\n",
       "    <tr>\n",
       "      <th>13</th>\n",
       "      <td>CryptoCurrency</td>\n",
       "      <td>1626850009</td>\n",
       "      <td>From riches to rags</td>\n",
       "      <td>7 months ago I invested 9000$ in crypto, I inv...</td>\n",
       "    </tr>\n",
       "    <tr>\n",
       "      <th>14</th>\n",
       "      <td>CryptoCurrency</td>\n",
       "      <td>1626849978</td>\n",
       "      <td>New: Clover on Coinbase earn</td>\n",
       "      <td>Coinbase earn added a new crypto:\\n\\nClover Fi...</td>\n",
       "    </tr>\n",
       "    <tr>\n",
       "      <th>17</th>\n",
       "      <td>CryptoCurrency</td>\n",
       "      <td>1626849843</td>\n",
       "      <td>New: Clover on Coinbase earn</td>\n",
       "      <td>[removed]</td>\n",
       "    </tr>\n",
       "    <tr>\n",
       "      <th>18</th>\n",
       "      <td>CryptoCurrency</td>\n",
       "      <td>1626849654</td>\n",
       "      <td>Hodl is just one of many strategy</td>\n",
       "      <td>Hodl is one of the strategy, not always the be...</td>\n",
       "    </tr>\n",
       "  </tbody>\n",
       "</table>\n",
       "</div>"
      ],
      "text/plain": [
       "         subreddit  created_utc  \\\n",
       "0   CryptoCurrency   1626850949   \n",
       "1   CryptoCurrency   1626850702   \n",
       "2   CryptoCurrency   1626850642   \n",
       "5   CryptoCurrency   1626850492   \n",
       "7   CryptoCurrency   1626850270   \n",
       "9   CryptoCurrency   1626850097   \n",
       "13  CryptoCurrency   1626850009   \n",
       "14  CryptoCurrency   1626849978   \n",
       "17  CryptoCurrency   1626849843   \n",
       "18  CryptoCurrency   1626849654   \n",
       "\n",
       "                                                title  \\\n",
       "0   Should I create a gymkhana with all my cryptoc...   \n",
       "1   A country’s ban on crypto is only valid if you...   \n",
       "2   I was already convinced. Fibonacci golden rati...   \n",
       "5                                             Defiant   \n",
       "7                    PathFund an Interesting Project.   \n",
       "9                                 From riches to rags   \n",
       "13                                From riches to rags   \n",
       "14                       New: Clover on Coinbase earn   \n",
       "17                       New: Clover on Coinbase earn   \n",
       "18                  Hodl is just one of many strategy   \n",
       "\n",
       "                                             selftext  \n",
       "0   Hello everyone, yesterday I was thinking about...  \n",
       "1   So I don’t understand why countries can ban cr...  \n",
       "2   Listen, nothing you read on the internet is fi...  \n",
       "5                                           [removed]  \n",
       "7                                           [removed]  \n",
       "9   7 months ago I invested 9000$ in crypto, I inv...  \n",
       "13  7 months ago I invested 9000$ in crypto, I inv...  \n",
       "14  Coinbase earn added a new crypto:\\n\\nClover Fi...  \n",
       "17                                          [removed]  \n",
       "18  Hodl is one of the strategy, not always the be...  "
      ]
     },
     "execution_count": 30,
     "metadata": {},
     "output_type": "execute_result"
    }
   ],
   "source": [
    "# Print a few rows\n",
    "final_crypto.head(10)\n",
    "\n",
    "# Observe [removed] in selftext"
   ]
  },
  {
   "cell_type": "code",
   "execution_count": 31,
   "metadata": {},
   "outputs": [],
   "source": [
    "# Filter all data with selftext = [removed]\n",
    "final_crypto = final_crypto.loc[final_crypto[\"selftext\"].str.contains(r'\\[removed\\]') != True]"
   ]
  },
  {
   "cell_type": "code",
   "execution_count": 32,
   "metadata": {},
   "outputs": [
    {
     "data": {
      "text/plain": [
       "(2043, 4)"
      ]
     },
     "execution_count": 32,
     "metadata": {},
     "output_type": "execute_result"
    }
   ],
   "source": [
    "# Print the number of rows and columns of final_stock\n",
    "final_crypto.shape\n",
    "\n",
    "# Observe 2044 rows."
   ]
  },
  {
   "cell_type": "markdown",
   "metadata": {},
   "source": [
    "#### 2. Remove duplicate entries"
   ]
  },
  {
   "cell_type": "code",
   "execution_count": 33,
   "metadata": {},
   "outputs": [],
   "source": [
    "# Remove duplicate entries\n",
    "final_crypto.drop_duplicates(subset=[\"selftext\"], keep='last', inplace = True)"
   ]
  },
  {
   "cell_type": "code",
   "execution_count": 34,
   "metadata": {
    "scrolled": true
   },
   "outputs": [
    {
     "data": {
      "text/plain": [
       "(2005, 4)"
      ]
     },
     "execution_count": 34,
     "metadata": {},
     "output_type": "execute_result"
    }
   ],
   "source": [
    "# Print the number of rows and columns of final_stock\n",
    "final_crypto.shape\n",
    "\n",
    "# Observe 2006 rows."
   ]
  },
  {
   "cell_type": "markdown",
   "metadata": {},
   "source": [
    "#### 3. Synchronize the amount of rows in both dataframe to be 1700"
   ]
  },
  {
   "cell_type": "code",
   "execution_count": 35,
   "metadata": {},
   "outputs": [],
   "source": [
    "# Drop the last 306 rows to synchronize the amount of rows to be 1700\n",
    "final_crypto = final_crypto[0:1700]"
   ]
  },
  {
   "cell_type": "code",
   "execution_count": 36,
   "metadata": {
    "scrolled": true
   },
   "outputs": [
    {
     "data": {
      "text/plain": [
       "(1700, 4)"
      ]
     },
     "execution_count": 36,
     "metadata": {},
     "output_type": "execute_result"
    }
   ],
   "source": [
    "# Print the number of rows and columns of final_stock\n",
    "final_crypto.shape\n",
    "\n",
    "# Observe 1700 rows."
   ]
  },
  {
   "cell_type": "markdown",
   "metadata": {},
   "source": [
    "### Merge both dataframe together into 1 dataframe"
   ]
  },
  {
   "cell_type": "code",
   "execution_count": 37,
   "metadata": {},
   "outputs": [],
   "source": [
    "# Merge both dataframe together into 1 dataframe\n",
    "final_dataset = pd.merge(final_stock, final_crypto, on=['subreddit','created_utc','title','selftext'], how = 'outer')"
   ]
  },
  {
   "cell_type": "markdown",
   "metadata": {},
   "source": [
    "### Concatenate the 'title' and 'selftext'"
   ]
  },
  {
   "cell_type": "code",
   "execution_count": 38,
   "metadata": {},
   "outputs": [],
   "source": [
    "# Concatenate the 'title' and 'selftext'\n",
    "final_dataset['title + selftext'] = final_dataset['title'] +\" \"+final_dataset['selftext']"
   ]
  },
  {
   "cell_type": "code",
   "execution_count": 39,
   "metadata": {},
   "outputs": [],
   "source": [
    "# Export the final dataset into csv\n",
    "final_dataset.to_csv(\"../Excel/Final Dataset.csv\", index = False)"
   ]
  },
  {
   "cell_type": "markdown",
   "metadata": {},
   "source": [
    "### Data Cleaning via Natural Language Processing Techniques"
   ]
  },
  {
   "cell_type": "markdown",
   "metadata": {},
   "source": [
    "#### 1. Remove punctuations, tokenize, remove stopwords and lemmatize"
   ]
  },
  {
   "cell_type": "code",
   "execution_count": 40,
   "metadata": {},
   "outputs": [],
   "source": [
    "# Initiate the stopwards and lemmonization\n",
    "stopwords = nltk.corpus.stopwords.words('english')\n",
    "wn = nltk.WordNetLemmatizer()"
   ]
  },
  {
   "cell_type": "code",
   "execution_count": 41,
   "metadata": {},
   "outputs": [],
   "source": [
    "# defining a function to do all followings: Remove punctuations, tokenize, remove stopwords, and lemmanize\n",
    "def clean_text(text):\n",
    "    # remove unicode characters\n",
    "    text = text.encode('ascii', 'ignore').decode()\n",
    "    # remove references to subreddits, i.e. \"r/\"WallStreetBets, numbers and http links\n",
    "    text= re.sub(r\"r/\", \"\", text)\n",
    "    text= re.sub(r\"http\\S+\", \"\", text)\n",
    "    text = re.sub(r\"\\w*\\d+\\w*\", \"\", text)\n",
    "    \n",
    "    # Remove punctuation and lowercasing the words\n",
    "    text = \"\".join([word.lower() for word in text if word not in string.punctuation])\n",
    "    \n",
    "    # \\W matches any non-word character (equivalent to [^a-zA-Z0-9_]). This does not include spaces i.e. \\s\n",
    "    # Add a + just in case there are 2 or more spaces between certain words\n",
    "    tokens = re.split('\\W+', text)\n",
    "    \n",
    "    # apply lemmanization and stopwords exclusion within the same step\n",
    "    text = [wn.lemmatize(word) for word in tokens if word not in stopwords]\n",
    "    return text"
   ]
  },
  {
   "cell_type": "code",
   "execution_count": 42,
   "metadata": {},
   "outputs": [],
   "source": [
    "# Applying the function on 'title + selftext' and store it in new column 'title+selftext_clean'\n",
    "final_dataset['title+selftext_clean'] = final_dataset['title + selftext'].apply(lambda x: clean_text(x))"
   ]
  },
  {
   "cell_type": "markdown",
   "metadata": {},
   "source": [
    "#### 2. Saving the clean dataset"
   ]
  },
  {
   "cell_type": "code",
   "execution_count": 43,
   "metadata": {},
   "outputs": [],
   "source": [
    "# Export the final dataset into csv again\n",
    "final_dataset.to_csv(\"../Excel/Final Dataset.csv\", index = False)"
   ]
  },
  {
   "cell_type": "markdown",
   "metadata": {},
   "source": [
    "# Exploratory Data Analysis (EDA)"
   ]
  },
  {
   "cell_type": "markdown",
   "metadata": {},
   "source": [
    "### To understand the post length of both subreddits by characters"
   ]
  },
  {
   "cell_type": "code",
   "execution_count": 44,
   "metadata": {},
   "outputs": [],
   "source": [
    "# defining a function to find the length of post by characters\n",
    "def post_length(text):\n",
    "    return len(text)"
   ]
  },
  {
   "cell_type": "code",
   "execution_count": 45,
   "metadata": {},
   "outputs": [],
   "source": [
    "# Applying the function on 'selftext' and store it in new column 'post_length'\n",
    "final_dataset['post_length'] = final_dataset['selftext'].apply(lambda x: post_length(x))"
   ]
  },
  {
   "cell_type": "code",
   "execution_count": 46,
   "metadata": {
    "scrolled": false
   },
   "outputs": [
    {
     "data": {
      "text/plain": [
       "<AxesSubplot:title={'center':'post_length'}, xlabel='subreddit'>"
      ]
     },
     "execution_count": 46,
     "metadata": {},
     "output_type": "execute_result"
    },
    {
     "data": {
      "image/png": "[encoded data removed]",
      "text/plain": [
       "<Figure size 720x432 with 1 Axes>"
      ]
     },
     "metadata": {
      "needs_background": "light"
     },
     "output_type": "display_data"
    }
   ],
   "source": [
    "# Plot a boxplot of post_length, groupby 'subreddit'\n",
    "final_dataset.boxplot(column = 'post_length', by = 'subreddit', figsize = (10,6), showfliers = True)"
   ]
  },
  {
   "cell_type": "code",
   "execution_count": 47,
   "metadata": {
    "scrolled": true
   },
   "outputs": [
    {
     "data": {
      "text/html": [
       "<div>\n",
       "<style scoped>\n",
       "    .dataframe tbody tr th:only-of-type {\n",
       "        vertical-align: middle;\n",
       "    }\n",
       "\n",
       "    .dataframe tbody tr th {\n",
       "        vertical-align: top;\n",
       "    }\n",
       "\n",
       "    .dataframe thead th {\n",
       "        text-align: right;\n",
       "    }\n",
       "</style>\n",
       "<table border=\"1\" class=\"dataframe\">\n",
       "  <thead>\n",
       "    <tr style=\"text-align: right;\">\n",
       "      <th></th>\n",
       "      <th>count</th>\n",
       "      <th>mean</th>\n",
       "      <th>std</th>\n",
       "      <th>min</th>\n",
       "      <th>25%</th>\n",
       "      <th>50%</th>\n",
       "      <th>75%</th>\n",
       "      <th>max</th>\n",
       "    </tr>\n",
       "    <tr>\n",
       "      <th>subreddit</th>\n",
       "      <th></th>\n",
       "      <th></th>\n",
       "      <th></th>\n",
       "      <th></th>\n",
       "      <th></th>\n",
       "      <th></th>\n",
       "      <th></th>\n",
       "      <th></th>\n",
       "    </tr>\n",
       "  </thead>\n",
       "  <tbody>\n",
       "    <tr>\n",
       "      <th>CryptoCurrency</th>\n",
       "      <td>1700.0</td>\n",
       "      <td>865.450000</td>\n",
       "      <td>1005.738326</td>\n",
       "      <td>4.0</td>\n",
       "      <td>343.75</td>\n",
       "      <td>532.0</td>\n",
       "      <td>969.5</td>\n",
       "      <td>12837.0</td>\n",
       "    </tr>\n",
       "    <tr>\n",
       "      <th>stocks</th>\n",
       "      <td>1700.0</td>\n",
       "      <td>1186.442353</td>\n",
       "      <td>2196.632622</td>\n",
       "      <td>1.0</td>\n",
       "      <td>319.75</td>\n",
       "      <td>520.0</td>\n",
       "      <td>983.0</td>\n",
       "      <td>25654.0</td>\n",
       "    </tr>\n",
       "  </tbody>\n",
       "</table>\n",
       "</div>"
      ],
      "text/plain": [
       "                 count         mean          std  min     25%    50%    75%  \\\n",
       "subreddit                                                                     \n",
       "CryptoCurrency  1700.0   865.450000  1005.738326  4.0  343.75  532.0  969.5   \n",
       "stocks          1700.0  1186.442353  2196.632622  1.0  319.75  520.0  983.0   \n",
       "\n",
       "                    max  \n",
       "subreddit                \n",
       "CryptoCurrency  12837.0  \n",
       "stocks          25654.0  "
      ]
     },
     "execution_count": 47,
     "metadata": {},
     "output_type": "execute_result"
    }
   ],
   "source": [
    "# Show the summary statistics of post_length\n",
    "final_dataset['post_length'].groupby(final_dataset['subreddit']).describe()"
   ]
  },
  {
   "cell_type": "code",
   "execution_count": 48,
   "metadata": {},
   "outputs": [],
   "source": [
    "# Store 'subreddit' = 'stocks' into 'post_length_stocks', store 'subreddit' = 'CryptoCurrency' into 'post_length_crypto'\n",
    "post_length_stocks = final_dataset.loc[final_dataset['subreddit'] == 'stocks']\n",
    "post_length_crypto = final_dataset.loc[final_dataset['subreddit'] == 'CryptoCurrency']"
   ]
  },
  {
   "cell_type": "code",
   "execution_count": 49,
   "metadata": {},
   "outputs": [
    {
     "name": "stderr",
     "output_type": "stream",
     "text": [
      "C:\\Users\\chiay\\anaconda3\\lib\\site-packages\\seaborn\\distributions.py:2551: FutureWarning: `distplot` is a deprecated function and will be removed in a future version. Please adapt your code to use either `displot` (a figure-level function with similar flexibility) or `histplot` (an axes-level function for histograms).\n",
      "  warnings.warn(msg, FutureWarning)\n"
     ]
    },
    {
     "data": {
      "image/png": "[encoded data removed]",
      "text/plain": [
       "<Figure size 432x288 with 1 Axes>"
      ]
     },
     "metadata": {
      "needs_background": "light"
     },
     "output_type": "display_data"
    }
   ],
   "source": [
    "# Distribution plot of both post_length_stocks and post_length_crypto\n",
    "sns.distplot(post_length_stocks['post_length'], kde=False);\n",
    "sns.distplot(post_length_crypto['post_length'], kde=False);\n",
    "plt.xlim(0,10000);   # Set x-limit"
   ]
  },
  {
   "cell_type": "markdown",
   "metadata": {},
   "source": [
    "The mean and standard deviation of post length by characters is higher for stocks comapred to Cryptocurrency due to presence of more fliers. If we look at median and the different percentile, not much difference between stocks and cryptocurrency."
   ]
  },
  {
   "cell_type": "markdown",
   "metadata": {},
   "source": [
    "### To understand the post length of both subreddits by words"
   ]
  },
  {
   "cell_type": "code",
   "execution_count": 50,
   "metadata": {},
   "outputs": [],
   "source": [
    "# defining a function to find the length of post by characters\n",
    "def post_length_word(text):\n",
    "    split_words = text.split(\" \")\n",
    "    return len(split_words)"
   ]
  },
  {
   "cell_type": "code",
   "execution_count": 51,
   "metadata": {},
   "outputs": [],
   "source": [
    "# Applying the function on 'selftext' and store it in new column 'post_length_word'\n",
    "final_dataset['post_length_word'] = final_dataset['selftext'].apply(lambda x: post_length_word(x))"
   ]
  },
  {
   "cell_type": "code",
   "execution_count": 52,
   "metadata": {},
   "outputs": [
    {
     "data": {
      "image/png": "[encoded data removed]",
      "text/plain": [
       "<Figure size 432x432 with 1 Axes>"
      ]
     },
     "metadata": {
      "needs_background": "light"
     },
     "output_type": "display_data"
    }
   ],
   "source": [
    "# Plot a boxplot of post_length, groupby 'subreddit'\n",
    "final_dataset.boxplot(column = 'post_length_word', by = 'subreddit', figsize = (6,6), showfliers = True);\n",
    "\n",
    "# Save the chart\n",
    "plt.savefig('../Presentation Slides/Image Used in Slides/Boxplot_postlength_words.png')"
   ]
  },
  {
   "cell_type": "code",
   "execution_count": 53,
   "metadata": {},
   "outputs": [
    {
     "data": {
      "text/html": [
       "<div>\n",
       "<style scoped>\n",
       "    .dataframe tbody tr th:only-of-type {\n",
       "        vertical-align: middle;\n",
       "    }\n",
       "\n",
       "    .dataframe tbody tr th {\n",
       "        vertical-align: top;\n",
       "    }\n",
       "\n",
       "    .dataframe thead th {\n",
       "        text-align: right;\n",
       "    }\n",
       "</style>\n",
       "<table border=\"1\" class=\"dataframe\">\n",
       "  <thead>\n",
       "    <tr style=\"text-align: right;\">\n",
       "      <th></th>\n",
       "      <th>count</th>\n",
       "      <th>mean</th>\n",
       "      <th>std</th>\n",
       "      <th>min</th>\n",
       "      <th>25%</th>\n",
       "      <th>50%</th>\n",
       "      <th>75%</th>\n",
       "      <th>max</th>\n",
       "    </tr>\n",
       "    <tr>\n",
       "      <th>subreddit</th>\n",
       "      <th></th>\n",
       "      <th></th>\n",
       "      <th></th>\n",
       "      <th></th>\n",
       "      <th></th>\n",
       "      <th></th>\n",
       "      <th></th>\n",
       "      <th></th>\n",
       "    </tr>\n",
       "  </thead>\n",
       "  <tbody>\n",
       "    <tr>\n",
       "      <th>CryptoCurrency</th>\n",
       "      <td>1700.0</td>\n",
       "      <td>147.895882</td>\n",
       "      <td>162.282350</td>\n",
       "      <td>1.0</td>\n",
       "      <td>62.0</td>\n",
       "      <td>94.0</td>\n",
       "      <td>166.25</td>\n",
       "      <td>2070.0</td>\n",
       "    </tr>\n",
       "    <tr>\n",
       "      <th>stocks</th>\n",
       "      <td>1700.0</td>\n",
       "      <td>192.181176</td>\n",
       "      <td>338.177007</td>\n",
       "      <td>1.0</td>\n",
       "      <td>56.0</td>\n",
       "      <td>90.0</td>\n",
       "      <td>168.00</td>\n",
       "      <td>3701.0</td>\n",
       "    </tr>\n",
       "  </tbody>\n",
       "</table>\n",
       "</div>"
      ],
      "text/plain": [
       "                 count        mean         std  min   25%   50%     75%  \\\n",
       "subreddit                                                                 \n",
       "CryptoCurrency  1700.0  147.895882  162.282350  1.0  62.0  94.0  166.25   \n",
       "stocks          1700.0  192.181176  338.177007  1.0  56.0  90.0  168.00   \n",
       "\n",
       "                   max  \n",
       "subreddit               \n",
       "CryptoCurrency  2070.0  \n",
       "stocks          3701.0  "
      ]
     },
     "execution_count": 53,
     "metadata": {},
     "output_type": "execute_result"
    }
   ],
   "source": [
    "# Show the summary statistics of post_length\n",
    "final_dataset['post_length_word'].groupby(final_dataset['subreddit']).describe()"
   ]
  },
  {
   "cell_type": "code",
   "execution_count": 54,
   "metadata": {},
   "outputs": [],
   "source": [
    "# Store 'subreddit' = 'stocks' into 'post_length_word_stocks', store 'subreddit' = 'CryptoCurrency' into 'post_length_word_crypto'\n",
    "post_length_word_stocks = final_dataset.loc[final_dataset['subreddit'] == 'stocks']\n",
    "post_length_word_crypto = final_dataset.loc[final_dataset['subreddit'] == 'CryptoCurrency']"
   ]
  },
  {
   "cell_type": "code",
   "execution_count": 55,
   "metadata": {},
   "outputs": [
    {
     "name": "stderr",
     "output_type": "stream",
     "text": [
      "C:\\Users\\chiay\\anaconda3\\lib\\site-packages\\seaborn\\distributions.py:2551: FutureWarning: `distplot` is a deprecated function and will be removed in a future version. Please adapt your code to use either `displot` (a figure-level function with similar flexibility) or `histplot` (an axes-level function for histograms).\n",
      "  warnings.warn(msg, FutureWarning)\n"
     ]
    },
    {
     "data": {
      "image/png": "[encoded data removed]",
      "text/plain": [
       "<Figure size 432x432 with 1 Axes>"
      ]
     },
     "metadata": {},
     "output_type": "display_data"
    }
   ],
   "source": [
    "# Distribution plot of both post_length__word_stocks and post_length_word_crypto\n",
    "sns.set(rc={'figure.figsize':(6,6)})      # Set the figure size to 10 x 10\n",
    "sns.distplot(post_length_word_stocks['post_length_word'], kde=False, label='stock');\n",
    "sns.distplot(post_length_word_crypto['post_length_word'], kde=False, label='CryptoCurrency');\n",
    "plt.legend()        # Plot the legend out\n",
    "plt.xlim(0,1000);   # Set x-limit\n",
    "plt.ylabel('Frequency')\n",
    "plt.title('Distribution of Frequency of Post length by Words')\n",
    "# Save the chart\n",
    "plt.savefig('../Presentation Slides/Image Used in Slides/Distribution_postlength_words.png')"
   ]
  },
  {
   "cell_type": "markdown",
   "metadata": {},
   "source": [
    "The mean and standard deviation of post length by words is higher for stocks comapred to Cryptocurrency due to presence of more fliers. If we look at median and the different percentile, not much difference between stocks and cryptocurrency."
   ]
  },
  {
   "cell_type": "markdown",
   "metadata": {},
   "source": [
    "### To understand the effect of posting time towards the post of both subreddit"
   ]
  },
  {
   "cell_type": "code",
   "execution_count": 56,
   "metadata": {},
   "outputs": [],
   "source": [
    "# defining a function to convert the epoch time to datetime\n",
    "def date_time(integer):\n",
    "    return dt.datetime.fromtimestamp(integer).strftime('%c')"
   ]
  },
  {
   "cell_type": "code",
   "execution_count": 57,
   "metadata": {},
   "outputs": [],
   "source": [
    "# Applying the function on 'created_utc' and store it in new column 'created_utc_datetime'\n",
    "final_dataset['created_utc_datetime'] = final_dataset['created_utc'].apply(lambda x: date_time(x))"
   ]
  },
  {
   "cell_type": "code",
   "execution_count": 58,
   "metadata": {},
   "outputs": [],
   "source": [
    "# defining a function to split the month from date_time\n",
    "def date_time_split_month(string):\n",
    "    date_time = re.split(r\"(\\w+)\",string)\n",
    "    return date_time [3]\n",
    "\n",
    "# defining a function to split the day from date_time\n",
    "def date_time_split_day(string):\n",
    "    date_time = re.split(r\"(\\w+)\",string)\n",
    "    return int(date_time [5])\n",
    "\n",
    "# defining a function to split the hour from date_time\n",
    "def date_time_split_hour(string):\n",
    "    date_time = re.split(r\"(\\w+)\",string)\n",
    "    return int(date_time [7])"
   ]
  },
  {
   "cell_type": "code",
   "execution_count": 59,
   "metadata": {},
   "outputs": [],
   "source": [
    "# Applying the functions on 'created_utc_datetime' and store it in new column 'month', 'day', 'hour'\n",
    "final_dataset['month'] = final_dataset['created_utc_datetime'].apply(lambda x: date_time_split_month(x))\n",
    "final_dataset['day'] = final_dataset['created_utc_datetime'].apply(lambda x: date_time_split_day(x))\n",
    "final_dataset['hour'] = final_dataset['created_utc_datetime'].apply(lambda x: date_time_split_hour(x))"
   ]
  },
  {
   "cell_type": "code",
   "execution_count": 60,
   "metadata": {},
   "outputs": [
    {
     "data": {
      "text/html": [
       "<div>\n",
       "<style scoped>\n",
       "    .dataframe tbody tr th:only-of-type {\n",
       "        vertical-align: middle;\n",
       "    }\n",
       "\n",
       "    .dataframe tbody tr th {\n",
       "        vertical-align: top;\n",
       "    }\n",
       "\n",
       "    .dataframe thead th {\n",
       "        text-align: right;\n",
       "    }\n",
       "</style>\n",
       "<table border=\"1\" class=\"dataframe\">\n",
       "  <thead>\n",
       "    <tr style=\"text-align: right;\">\n",
       "      <th></th>\n",
       "      <th>subreddit</th>\n",
       "      <th>hour</th>\n",
       "      <th>count</th>\n",
       "    </tr>\n",
       "  </thead>\n",
       "  <tbody>\n",
       "    <tr>\n",
       "      <th>0</th>\n",
       "      <td>CryptoCurrency</td>\n",
       "      <td>0</td>\n",
       "      <td>95</td>\n",
       "    </tr>\n",
       "    <tr>\n",
       "      <th>1</th>\n",
       "      <td>CryptoCurrency</td>\n",
       "      <td>1</td>\n",
       "      <td>92</td>\n",
       "    </tr>\n",
       "    <tr>\n",
       "      <th>2</th>\n",
       "      <td>CryptoCurrency</td>\n",
       "      <td>2</td>\n",
       "      <td>89</td>\n",
       "    </tr>\n",
       "    <tr>\n",
       "      <th>3</th>\n",
       "      <td>CryptoCurrency</td>\n",
       "      <td>3</td>\n",
       "      <td>90</td>\n",
       "    </tr>\n",
       "    <tr>\n",
       "      <th>4</th>\n",
       "      <td>CryptoCurrency</td>\n",
       "      <td>4</td>\n",
       "      <td>104</td>\n",
       "    </tr>\n",
       "    <tr>\n",
       "      <th>5</th>\n",
       "      <td>CryptoCurrency</td>\n",
       "      <td>5</td>\n",
       "      <td>83</td>\n",
       "    </tr>\n",
       "    <tr>\n",
       "      <th>6</th>\n",
       "      <td>CryptoCurrency</td>\n",
       "      <td>6</td>\n",
       "      <td>70</td>\n",
       "    </tr>\n",
       "    <tr>\n",
       "      <th>7</th>\n",
       "      <td>CryptoCurrency</td>\n",
       "      <td>7</td>\n",
       "      <td>74</td>\n",
       "    </tr>\n",
       "    <tr>\n",
       "      <th>8</th>\n",
       "      <td>CryptoCurrency</td>\n",
       "      <td>8</td>\n",
       "      <td>64</td>\n",
       "    </tr>\n",
       "    <tr>\n",
       "      <th>9</th>\n",
       "      <td>CryptoCurrency</td>\n",
       "      <td>9</td>\n",
       "      <td>58</td>\n",
       "    </tr>\n",
       "    <tr>\n",
       "      <th>10</th>\n",
       "      <td>CryptoCurrency</td>\n",
       "      <td>10</td>\n",
       "      <td>61</td>\n",
       "    </tr>\n",
       "    <tr>\n",
       "      <th>11</th>\n",
       "      <td>CryptoCurrency</td>\n",
       "      <td>11</td>\n",
       "      <td>55</td>\n",
       "    </tr>\n",
       "    <tr>\n",
       "      <th>12</th>\n",
       "      <td>CryptoCurrency</td>\n",
       "      <td>12</td>\n",
       "      <td>70</td>\n",
       "    </tr>\n",
       "    <tr>\n",
       "      <th>13</th>\n",
       "      <td>CryptoCurrency</td>\n",
       "      <td>13</td>\n",
       "      <td>64</td>\n",
       "    </tr>\n",
       "    <tr>\n",
       "      <th>14</th>\n",
       "      <td>CryptoCurrency</td>\n",
       "      <td>14</td>\n",
       "      <td>60</td>\n",
       "    </tr>\n",
       "    <tr>\n",
       "      <th>15</th>\n",
       "      <td>CryptoCurrency</td>\n",
       "      <td>15</td>\n",
       "      <td>49</td>\n",
       "    </tr>\n",
       "    <tr>\n",
       "      <th>16</th>\n",
       "      <td>CryptoCurrency</td>\n",
       "      <td>16</td>\n",
       "      <td>46</td>\n",
       "    </tr>\n",
       "    <tr>\n",
       "      <th>17</th>\n",
       "      <td>CryptoCurrency</td>\n",
       "      <td>17</td>\n",
       "      <td>52</td>\n",
       "    </tr>\n",
       "    <tr>\n",
       "      <th>18</th>\n",
       "      <td>CryptoCurrency</td>\n",
       "      <td>18</td>\n",
       "      <td>54</td>\n",
       "    </tr>\n",
       "    <tr>\n",
       "      <th>19</th>\n",
       "      <td>CryptoCurrency</td>\n",
       "      <td>19</td>\n",
       "      <td>64</td>\n",
       "    </tr>\n",
       "    <tr>\n",
       "      <th>20</th>\n",
       "      <td>CryptoCurrency</td>\n",
       "      <td>20</td>\n",
       "      <td>69</td>\n",
       "    </tr>\n",
       "    <tr>\n",
       "      <th>21</th>\n",
       "      <td>CryptoCurrency</td>\n",
       "      <td>21</td>\n",
       "      <td>77</td>\n",
       "    </tr>\n",
       "    <tr>\n",
       "      <th>22</th>\n",
       "      <td>CryptoCurrency</td>\n",
       "      <td>22</td>\n",
       "      <td>77</td>\n",
       "    </tr>\n",
       "    <tr>\n",
       "      <th>23</th>\n",
       "      <td>CryptoCurrency</td>\n",
       "      <td>23</td>\n",
       "      <td>83</td>\n",
       "    </tr>\n",
       "    <tr>\n",
       "      <th>24</th>\n",
       "      <td>stocks</td>\n",
       "      <td>0</td>\n",
       "      <td>108</td>\n",
       "    </tr>\n",
       "    <tr>\n",
       "      <th>25</th>\n",
       "      <td>stocks</td>\n",
       "      <td>1</td>\n",
       "      <td>105</td>\n",
       "    </tr>\n",
       "    <tr>\n",
       "      <th>26</th>\n",
       "      <td>stocks</td>\n",
       "      <td>2</td>\n",
       "      <td>108</td>\n",
       "    </tr>\n",
       "    <tr>\n",
       "      <th>27</th>\n",
       "      <td>stocks</td>\n",
       "      <td>3</td>\n",
       "      <td>102</td>\n",
       "    </tr>\n",
       "    <tr>\n",
       "      <th>28</th>\n",
       "      <td>stocks</td>\n",
       "      <td>4</td>\n",
       "      <td>141</td>\n",
       "    </tr>\n",
       "    <tr>\n",
       "      <th>29</th>\n",
       "      <td>stocks</td>\n",
       "      <td>5</td>\n",
       "      <td>100</td>\n",
       "    </tr>\n",
       "    <tr>\n",
       "      <th>30</th>\n",
       "      <td>stocks</td>\n",
       "      <td>6</td>\n",
       "      <td>77</td>\n",
       "    </tr>\n",
       "    <tr>\n",
       "      <th>31</th>\n",
       "      <td>stocks</td>\n",
       "      <td>7</td>\n",
       "      <td>82</td>\n",
       "    </tr>\n",
       "    <tr>\n",
       "      <th>32</th>\n",
       "      <td>stocks</td>\n",
       "      <td>8</td>\n",
       "      <td>69</td>\n",
       "    </tr>\n",
       "    <tr>\n",
       "      <th>33</th>\n",
       "      <td>stocks</td>\n",
       "      <td>9</td>\n",
       "      <td>66</td>\n",
       "    </tr>\n",
       "    <tr>\n",
       "      <th>34</th>\n",
       "      <td>stocks</td>\n",
       "      <td>10</td>\n",
       "      <td>64</td>\n",
       "    </tr>\n",
       "    <tr>\n",
       "      <th>35</th>\n",
       "      <td>stocks</td>\n",
       "      <td>11</td>\n",
       "      <td>46</td>\n",
       "    </tr>\n",
       "    <tr>\n",
       "      <th>36</th>\n",
       "      <td>stocks</td>\n",
       "      <td>12</td>\n",
       "      <td>55</td>\n",
       "    </tr>\n",
       "    <tr>\n",
       "      <th>37</th>\n",
       "      <td>stocks</td>\n",
       "      <td>13</td>\n",
       "      <td>34</td>\n",
       "    </tr>\n",
       "    <tr>\n",
       "      <th>38</th>\n",
       "      <td>stocks</td>\n",
       "      <td>14</td>\n",
       "      <td>18</td>\n",
       "    </tr>\n",
       "    <tr>\n",
       "      <th>39</th>\n",
       "      <td>stocks</td>\n",
       "      <td>15</td>\n",
       "      <td>34</td>\n",
       "    </tr>\n",
       "    <tr>\n",
       "      <th>40</th>\n",
       "      <td>stocks</td>\n",
       "      <td>16</td>\n",
       "      <td>34</td>\n",
       "    </tr>\n",
       "    <tr>\n",
       "      <th>41</th>\n",
       "      <td>stocks</td>\n",
       "      <td>17</td>\n",
       "      <td>33</td>\n",
       "    </tr>\n",
       "    <tr>\n",
       "      <th>42</th>\n",
       "      <td>stocks</td>\n",
       "      <td>18</td>\n",
       "      <td>29</td>\n",
       "    </tr>\n",
       "    <tr>\n",
       "      <th>43</th>\n",
       "      <td>stocks</td>\n",
       "      <td>19</td>\n",
       "      <td>40</td>\n",
       "    </tr>\n",
       "    <tr>\n",
       "      <th>44</th>\n",
       "      <td>stocks</td>\n",
       "      <td>20</td>\n",
       "      <td>62</td>\n",
       "    </tr>\n",
       "    <tr>\n",
       "      <th>45</th>\n",
       "      <td>stocks</td>\n",
       "      <td>21</td>\n",
       "      <td>89</td>\n",
       "    </tr>\n",
       "    <tr>\n",
       "      <th>46</th>\n",
       "      <td>stocks</td>\n",
       "      <td>22</td>\n",
       "      <td>92</td>\n",
       "    </tr>\n",
       "    <tr>\n",
       "      <th>47</th>\n",
       "      <td>stocks</td>\n",
       "      <td>23</td>\n",
       "      <td>112</td>\n",
       "    </tr>\n",
       "  </tbody>\n",
       "</table>\n",
       "</div>"
      ],
      "text/plain": [
       "         subreddit  hour  count\n",
       "0   CryptoCurrency     0     95\n",
       "1   CryptoCurrency     1     92\n",
       "2   CryptoCurrency     2     89\n",
       "3   CryptoCurrency     3     90\n",
       "4   CryptoCurrency     4    104\n",
       "5   CryptoCurrency     5     83\n",
       "6   CryptoCurrency     6     70\n",
       "7   CryptoCurrency     7     74\n",
       "8   CryptoCurrency     8     64\n",
       "9   CryptoCurrency     9     58\n",
       "10  CryptoCurrency    10     61\n",
       "11  CryptoCurrency    11     55\n",
       "12  CryptoCurrency    12     70\n",
       "13  CryptoCurrency    13     64\n",
       "14  CryptoCurrency    14     60\n",
       "15  CryptoCurrency    15     49\n",
       "16  CryptoCurrency    16     46\n",
       "17  CryptoCurrency    17     52\n",
       "18  CryptoCurrency    18     54\n",
       "19  CryptoCurrency    19     64\n",
       "20  CryptoCurrency    20     69\n",
       "21  CryptoCurrency    21     77\n",
       "22  CryptoCurrency    22     77\n",
       "23  CryptoCurrency    23     83\n",
       "24          stocks     0    108\n",
       "25          stocks     1    105\n",
       "26          stocks     2    108\n",
       "27          stocks     3    102\n",
       "28          stocks     4    141\n",
       "29          stocks     5    100\n",
       "30          stocks     6     77\n",
       "31          stocks     7     82\n",
       "32          stocks     8     69\n",
       "33          stocks     9     66\n",
       "34          stocks    10     64\n",
       "35          stocks    11     46\n",
       "36          stocks    12     55\n",
       "37          stocks    13     34\n",
       "38          stocks    14     18\n",
       "39          stocks    15     34\n",
       "40          stocks    16     34\n",
       "41          stocks    17     33\n",
       "42          stocks    18     29\n",
       "43          stocks    19     40\n",
       "44          stocks    20     62\n",
       "45          stocks    21     89\n",
       "46          stocks    22     92\n",
       "47          stocks    23    112"
      ]
     },
     "execution_count": 60,
     "metadata": {},
     "output_type": "execute_result"
    }
   ],
   "source": [
    "#transform dataframe so that it can be easily plotted in seaborn\n",
    "# Aggregate by 'subreddit','hour', do count, and store it in 'grouped' dataframe\n",
    "grouped = final_dataset.groupby(['subreddit','hour']).count()\n",
    "\n",
    "# Only store 1 column (any column also can, in this case 'created_utc')\n",
    "grouped = grouped [['created_utc']]\n",
    "\n",
    "# stack the 'grouped' dataframe, reset index and store it into 'grouped_stack'\n",
    "grouped_stack = pd.DataFrame(grouped.stack()).reset_index()\n",
    "\n",
    "# Drop 'level_2' column\n",
    "grouped_stack.drop('level_2', axis = 1, inplace = True)\n",
    "\n",
    "# Rename the column 0 to 'count'\n",
    "grouped_stack.rename(columns={0: 'count'}, inplace=True)\n",
    "\n",
    "# Print 'grouped_stack'\n",
    "grouped_stack"
   ]
  },
  {
   "cell_type": "code",
   "execution_count": 61,
   "metadata": {},
   "outputs": [
    {
     "data": {
      "image/png": "[encoded data removed]",
      "text/plain": [
       "<Figure size 432x432 with 1 Axes>"
      ]
     },
     "metadata": {},
     "output_type": "display_data"
    }
   ],
   "source": [
    "# Plot barplot using seaborn\n",
    "# x-axis is 'hour', y-axis is 'count', partition by 'subreddit'\n",
    "sns.barplot(x='hour', y='count', hue='subreddit', data=grouped_stack);\n",
    "sns.set(rc={'figure.figsize':(15,15)})        # Set the figure size"
   ]
  },
  {
   "cell_type": "markdown",
   "metadata": {},
   "source": [
    "There is a dip in post for r/stocks between 11-20 hour GMT, and this timing corresponds to night time at US, indicating that a lot of reddit users of r/stocks are from US, and will not be posting since the US market has closed. r/CryptoCurrency on the other hand is more evenly posted across hours as crypto are being traded 24 hours. There is also a slight dip between 11-20 hours, as the US users are sleeping during that timing."
   ]
  },
  {
   "cell_type": "markdown",
   "metadata": {},
   "source": [
    "### To understand the most common words appeared"
   ]
  },
  {
   "cell_type": "markdown",
   "metadata": {},
   "source": [
    "#### Using Word-Vectors Method"
   ]
  },
  {
   "cell_type": "code",
   "execution_count": 62,
   "metadata": {},
   "outputs": [],
   "source": [
    "# Create feature Matrix X and y\n",
    "X = final_dataset['title+selftext_clean']    # Save the 'title+selftext_clean' into X\n",
    "y = final_dataset['subreddit']               # Save the 'subreddit' into y"
   ]
  },
  {
   "cell_type": "code",
   "execution_count": 63,
   "metadata": {},
   "outputs": [],
   "source": [
    "# Train the word2vec model\n",
    "w2v_model = gensim.models.Word2Vec(X,\n",
    "                                   window=5,            # set number of words before and after the focus word that will be considered as context as 5.\n",
    "                                   min_count=2)         # set number of times word must appear in our corpus in to order to create a word vector to be 2."
   ]
  },
  {
   "cell_type": "code",
   "execution_count": 64,
   "metadata": {},
   "outputs": [
    {
     "data": {
      "text/plain": [
       "array([ 0.42898482, -0.2362591 , -0.04069495, -0.37003952, -0.37588108,\n",
       "       -0.9264748 ,  0.6378231 ,  0.77778584, -1.3002664 , -0.7476025 ,\n",
       "        0.45312276, -0.98974496, -0.01680828,  0.3498574 , -0.3257939 ,\n",
       "       -0.21098983, -0.0735269 , -0.6524015 , -1.4931395 , -1.5186175 ,\n",
       "        0.5463244 ,  0.37864584, -0.4885353 , -0.34252456,  0.37060705,\n",
       "        0.44389233,  0.04460849, -0.03414277, -0.65218824,  0.58435494,\n",
       "        0.5106825 , -0.09846875,  0.38366473, -0.9414597 , -0.7091692 ,\n",
       "        1.0414344 ,  0.63229793, -0.4798924 , -0.28580222, -1.512417  ,\n",
       "        0.05245076, -0.40196553, -0.7847938 ,  0.16687457,  0.28253794,\n",
       "       -0.2664438 , -0.33946276,  0.17761223,  0.5734426 ,  0.5700067 ,\n",
       "       -0.22602548, -0.2697383 ,  0.09785774, -0.6637828 , -0.4161027 ,\n",
       "        0.3589598 ,  0.49817976, -0.26381   , -0.7571298 ,  0.34492683,\n",
       "       -0.3436365 , -0.34707913,  0.01199225, -0.39006633, -0.6162051 ,\n",
       "        0.8856131 , -0.4128796 , -0.23967925, -0.7129631 ,  1.0695058 ,\n",
       "        0.36047813,  0.4275364 ,  0.33727017,  0.36854896,  0.7851275 ,\n",
       "       -0.05313794,  0.9896967 , -0.01807255, -0.32445624, -0.04354038,\n",
       "        0.2122433 ,  0.47533646, -1.0047629 ,  0.64687055, -0.4534031 ,\n",
       "       -0.2626234 , -0.01216726,  0.5535364 ,  0.79940474,  0.58871937,\n",
       "        0.64457124,  0.7877443 ,  0.05516591,  0.1668461 ,  0.04262808,\n",
       "        0.12997925,  0.3871942 , -0.91261137,  0.48193428,  0.07810314],\n",
       "      dtype=float32)"
      ]
     },
     "execution_count": 64,
     "metadata": {},
     "output_type": "execute_result"
    }
   ],
   "source": [
    "# Explore the word vector for \"stock\" base on our trained model\n",
    "w2v_model.wv['stock']"
   ]
  },
  {
   "cell_type": "code",
   "execution_count": 65,
   "metadata": {},
   "outputs": [],
   "source": [
    "# Find the most similar words to \"stock\" based on word vectors from our trained model\n",
    "stock_similar = w2v_model.wv.most_similar('stock')"
   ]
  },
  {
   "cell_type": "code",
   "execution_count": 66,
   "metadata": {},
   "outputs": [],
   "source": [
    "# Store the info into list\n",
    "stock_similar_word = []\n",
    "stock_similar_coefficient = []\n",
    "for i in range (0,10):\n",
    "    stock_similar_word.append(stock_similar[i][0])\n",
    "    stock_similar_coefficient.append(stock_similar[i][1])"
   ]
  },
  {
   "cell_type": "code",
   "execution_count": 67,
   "metadata": {},
   "outputs": [],
   "source": [
    "# Store the list into dataframe\n",
    "stock_similar_dataframe = pd.DataFrame([stock_similar_word, stock_similar_coefficient])"
   ]
  },
  {
   "cell_type": "code",
   "execution_count": 68,
   "metadata": {},
   "outputs": [],
   "source": [
    "# Transpose the dataframe\n",
    "stock_similar_dataframe = stock_similar_dataframe.T"
   ]
  },
  {
   "cell_type": "code",
   "execution_count": 69,
   "metadata": {},
   "outputs": [],
   "source": [
    "# Rename the column from 0 to 'word', 1 to 'Word Vector Coefficient'\n",
    "stock_similar_dataframe.rename(columns={0: 'Word',\n",
    "                                      1: 'Word Vector Coefficient' }, inplace = True)"
   ]
  },
  {
   "cell_type": "code",
   "execution_count": 70,
   "metadata": {},
   "outputs": [
    {
     "data": {
      "text/html": [
       "<div>\n",
       "<style scoped>\n",
       "    .dataframe tbody tr th:only-of-type {\n",
       "        vertical-align: middle;\n",
       "    }\n",
       "\n",
       "    .dataframe tbody tr th {\n",
       "        vertical-align: top;\n",
       "    }\n",
       "\n",
       "    .dataframe thead th {\n",
       "        text-align: right;\n",
       "    }\n",
       "</style>\n",
       "<table border=\"1\" class=\"dataframe\">\n",
       "  <thead>\n",
       "    <tr style=\"text-align: right;\">\n",
       "      <th></th>\n",
       "      <th>Word</th>\n",
       "      <th>Word Vector Coefficient</th>\n",
       "    </tr>\n",
       "  </thead>\n",
       "  <tbody>\n",
       "    <tr>\n",
       "      <th>0</th>\n",
       "      <td>dip</td>\n",
       "      <td>0.969607</td>\n",
       "    </tr>\n",
       "    <tr>\n",
       "      <th>1</th>\n",
       "      <td>buying</td>\n",
       "      <td>0.954989</td>\n",
       "    </tr>\n",
       "    <tr>\n",
       "      <th>2</th>\n",
       "      <td>sell</td>\n",
       "      <td>0.9332</td>\n",
       "    </tr>\n",
       "    <tr>\n",
       "      <th>3</th>\n",
       "      <td>buy</td>\n",
       "      <td>0.933173</td>\n",
       "    </tr>\n",
       "    <tr>\n",
       "      <th>4</th>\n",
       "      <td>selling</td>\n",
       "      <td>0.931293</td>\n",
       "    </tr>\n",
       "    <tr>\n",
       "      <th>5</th>\n",
       "      <td>eth</td>\n",
       "      <td>0.924792</td>\n",
       "    </tr>\n",
       "    <tr>\n",
       "      <th>6</th>\n",
       "      <td>btc</td>\n",
       "      <td>0.920763</td>\n",
       "    </tr>\n",
       "    <tr>\n",
       "      <th>7</th>\n",
       "      <td>drop</td>\n",
       "      <td>0.913255</td>\n",
       "    </tr>\n",
       "    <tr>\n",
       "      <th>8</th>\n",
       "      <td>call</td>\n",
       "      <td>0.911858</td>\n",
       "    </tr>\n",
       "    <tr>\n",
       "      <th>9</th>\n",
       "      <td>otm</td>\n",
       "      <td>0.905581</td>\n",
       "    </tr>\n",
       "  </tbody>\n",
       "</table>\n",
       "</div>"
      ],
      "text/plain": [
       "      Word Word Vector Coefficient\n",
       "0      dip                0.969607\n",
       "1   buying                0.954989\n",
       "2     sell                  0.9332\n",
       "3      buy                0.933173\n",
       "4  selling                0.931293\n",
       "5      eth                0.924792\n",
       "6      btc                0.920763\n",
       "7     drop                0.913255\n",
       "8     call                0.911858\n",
       "9      otm                0.905581"
      ]
     },
     "execution_count": 70,
     "metadata": {},
     "output_type": "execute_result"
    }
   ],
   "source": [
    "# Print the dataframe\n",
    "stock_similar_dataframe"
   ]
  },
  {
   "cell_type": "code",
   "execution_count": 71,
   "metadata": {},
   "outputs": [
    {
     "data": {
      "text/plain": [
       "array([-0.04863219,  0.39297125,  0.47887817,  0.0247599 , -0.3114824 ,\n",
       "       -0.885428  ,  0.14448872,  1.1355051 , -0.57828635, -0.73624307,\n",
       "        0.26371977, -1.1343082 , -0.04729411,  0.42305696, -0.02090347,\n",
       "       -0.6396881 , -0.37865385, -0.35046628, -0.5316749 , -1.2747797 ,\n",
       "        0.67968297,  0.20804152,  0.30507228,  0.16044468, -0.19236548,\n",
       "        0.01757544, -0.82100385, -0.720036  , -0.16677682,  0.28414378,\n",
       "        0.7567035 , -0.0023358 ,  0.5097567 , -0.40306103, -0.8041572 ,\n",
       "        0.33108464,  0.25416052, -0.7052586 , -0.3736665 , -0.8584368 ,\n",
       "        0.11751495, -0.35782027, -0.61923015,  0.13953826,  0.11393432,\n",
       "       -0.4335542 , -0.28467602, -0.2869627 ,  0.6842898 ,  0.62098944,\n",
       "        0.1240024 , -0.43098226, -0.03817265, -0.8121553 , -0.02362264,\n",
       "        0.7529563 ,  0.4244496 , -0.62559396, -0.22787087,  0.10337294,\n",
       "        0.16447878,  0.13049817, -0.0050756 , -0.4694395 , -0.73270065,\n",
       "        0.53329474, -0.31851664,  0.13437846, -0.7838861 ,  1.387133  ,\n",
       "       -0.43787104,  0.22080092,  0.28712523, -0.27519557,  0.7540324 ,\n",
       "        0.64020455,  0.4574884 , -0.40111277, -0.84115404,  0.32720855,\n",
       "       -0.03445543, -0.00569784, -0.94708633,  1.0709935 , -0.63324434,\n",
       "        0.22715372, -0.29245496,  0.13268286,  0.28663075, -0.07224877,\n",
       "        0.15050744, -0.03274907,  0.02479389,  0.11690885,  0.84221953,\n",
       "        0.28939462,  0.21010183, -0.35803774, -0.21351677, -0.04588651],\n",
       "      dtype=float32)"
      ]
     },
     "execution_count": 71,
     "metadata": {},
     "output_type": "execute_result"
    }
   ],
   "source": [
    "# Explore the word vector for \"cryptocurrency\" base on our trained model\n",
    "w2v_model.wv['crypto']"
   ]
  },
  {
   "cell_type": "code",
   "execution_count": 72,
   "metadata": {},
   "outputs": [],
   "source": [
    "# Find the most similar words to \"cryptocurrency\" based on word vectors from our trained model\n",
    "crypto_similar = w2v_model.wv.most_similar('crypto')"
   ]
  },
  {
   "cell_type": "code",
   "execution_count": 73,
   "metadata": {},
   "outputs": [],
   "source": [
    "# Store the info into list\n",
    "crypto_similar_word = []\n",
    "crypto_similar_coefficient = []\n",
    "for i in range (0,10):\n",
    "    crypto_similar_word.append(crypto_similar[i][0])\n",
    "    crypto_similar_coefficient.append(crypto_similar[i][1])"
   ]
  },
  {
   "cell_type": "code",
   "execution_count": 74,
   "metadata": {},
   "outputs": [],
   "source": [
    "# Store the list into dataframe\n",
    "crypto_similar_dataframe = pd.DataFrame([crypto_similar_word, crypto_similar_coefficient])"
   ]
  },
  {
   "cell_type": "code",
   "execution_count": 75,
   "metadata": {},
   "outputs": [],
   "source": [
    "# Transpose the dataframe\n",
    "crypto_similar_dataframe = crypto_similar_dataframe.T"
   ]
  },
  {
   "cell_type": "code",
   "execution_count": 76,
   "metadata": {},
   "outputs": [],
   "source": [
    "# Rename the column from 0 to 'word', 1 to 'Word Vector Coefficient'\n",
    "crypto_similar_dataframe.rename(columns={0: 'Word',\n",
    "                                      1: 'Word Vector Coefficient' }, inplace = True)"
   ]
  },
  {
   "cell_type": "code",
   "execution_count": 77,
   "metadata": {},
   "outputs": [],
   "source": [
    "# Drop the index\n",
    "crypto_similar_dataframe.reset_index(drop=True, inplace=True)"
   ]
  },
  {
   "cell_type": "code",
   "execution_count": 78,
   "metadata": {},
   "outputs": [
    {
     "data": {
      "text/html": [
       "<div>\n",
       "<style scoped>\n",
       "    .dataframe tbody tr th:only-of-type {\n",
       "        vertical-align: middle;\n",
       "    }\n",
       "\n",
       "    .dataframe tbody tr th {\n",
       "        vertical-align: top;\n",
       "    }\n",
       "\n",
       "    .dataframe thead th {\n",
       "        text-align: right;\n",
       "    }\n",
       "</style>\n",
       "<table border=\"1\" class=\"dataframe\">\n",
       "  <thead>\n",
       "    <tr style=\"text-align: right;\">\n",
       "      <th></th>\n",
       "      <th>Word</th>\n",
       "      <th>Word Vector Coefficient</th>\n",
       "    </tr>\n",
       "  </thead>\n",
       "  <tbody>\n",
       "    <tr>\n",
       "      <th>0</th>\n",
       "      <td>best</td>\n",
       "      <td>0.986832</td>\n",
       "    </tr>\n",
       "    <tr>\n",
       "      <th>1</th>\n",
       "      <td>investing</td>\n",
       "      <td>0.986102</td>\n",
       "    </tr>\n",
       "    <tr>\n",
       "      <th>2</th>\n",
       "      <td>everyone</td>\n",
       "      <td>0.983937</td>\n",
       "    </tr>\n",
       "    <tr>\n",
       "      <th>3</th>\n",
       "      <td>curious</td>\n",
       "      <td>0.983811</td>\n",
       "    </tr>\n",
       "    <tr>\n",
       "      <th>4</th>\n",
       "      <td>sure</td>\n",
       "      <td>0.983641</td>\n",
       "    </tr>\n",
       "    <tr>\n",
       "      <th>5</th>\n",
       "      <td>hey</td>\n",
       "      <td>0.982573</td>\n",
       "    </tr>\n",
       "    <tr>\n",
       "      <th>6</th>\n",
       "      <td>wrong</td>\n",
       "      <td>0.981926</td>\n",
       "    </tr>\n",
       "    <tr>\n",
       "      <th>7</th>\n",
       "      <td>someone</td>\n",
       "      <td>0.981568</td>\n",
       "    </tr>\n",
       "    <tr>\n",
       "      <th>8</th>\n",
       "      <td>idea</td>\n",
       "      <td>0.981213</td>\n",
       "    </tr>\n",
       "    <tr>\n",
       "      <th>9</th>\n",
       "      <td>trying</td>\n",
       "      <td>0.980777</td>\n",
       "    </tr>\n",
       "  </tbody>\n",
       "</table>\n",
       "</div>"
      ],
      "text/plain": [
       "        Word Word Vector Coefficient\n",
       "0       best                0.986832\n",
       "1  investing                0.986102\n",
       "2   everyone                0.983937\n",
       "3    curious                0.983811\n",
       "4       sure                0.983641\n",
       "5        hey                0.982573\n",
       "6      wrong                0.981926\n",
       "7    someone                0.981568\n",
       "8       idea                0.981213\n",
       "9     trying                0.980777"
      ]
     },
     "execution_count": 78,
     "metadata": {},
     "output_type": "execute_result"
    }
   ],
   "source": [
    "# Print the dataframe\n",
    "crypto_similar_dataframe"
   ]
  },
  {
   "cell_type": "markdown",
   "metadata": {},
   "source": [
    "#### Using N-Gram Method"
   ]
  },
  {
   "cell_type": "code",
   "execution_count": 79,
   "metadata": {},
   "outputs": [],
   "source": [
    "# To use N-Gram, it requires a full sentence to be passed in as opposed to a tokenized list\n",
    "# Define a function to join back the list of words\n",
    "def join_clean_text(list):\n",
    "    text = \" \".join(list)\n",
    "    return text"
   ]
  },
  {
   "cell_type": "code",
   "execution_count": 80,
   "metadata": {},
   "outputs": [],
   "source": [
    "# Applying the function on 'selftext' and store it in new column 'post_length_word'\n",
    "final_dataset['title+selftext_clean_joined'] = final_dataset['title+selftext_clean'].apply(lambda x: join_clean_text(x))"
   ]
  },
  {
   "cell_type": "code",
   "execution_count": 81,
   "metadata": {},
   "outputs": [],
   "source": [
    "# Divide final_dataset into 2 df of 'stocks' and 'crypto'\n",
    "final_dataset_stocks = final_dataset[final_dataset['subreddit'] == 'stocks']\n",
    "final_dataset_crypto = final_dataset[final_dataset['subreddit'] == 'CryptoCurrency']"
   ]
  },
  {
   "cell_type": "markdown",
   "metadata": {},
   "source": [
    "#### 1 x 1 N-Gram - 'Stocks' Subreddit"
   ]
  },
  {
   "cell_type": "code",
   "execution_count": 82,
   "metadata": {},
   "outputs": [
    {
     "name": "stdout",
     "output_type": "stream",
     "text": [
      "(1700, 15201)\n"
     ]
    }
   ],
   "source": [
    "# Do a count vectorizer with a parameter of 1 by 1, unigram.\n",
    "ngram_vect = CountVectorizer(ngram_range=(1,1))\n",
    "# Transform the 'title_selftext+clean_joined' in 'stocks' into a sparse matrix \n",
    "X_counts = ngram_vect.fit_transform(final_dataset_stocks['title+selftext_clean_joined'])\n",
    "\n",
    "# 'Stocks' dataset has 15,201 unique 1-word\n",
    "print(X_counts.shape)"
   ]
  },
  {
   "cell_type": "code",
   "execution_count": 83,
   "metadata": {},
   "outputs": [
    {
     "data": {
      "text/html": [
       "<div>\n",
       "<style scoped>\n",
       "    .dataframe tbody tr th:only-of-type {\n",
       "        vertical-align: middle;\n",
       "    }\n",
       "\n",
       "    .dataframe tbody tr th {\n",
       "        vertical-align: top;\n",
       "    }\n",
       "\n",
       "    .dataframe thead th {\n",
       "        text-align: right;\n",
       "    }\n",
       "</style>\n",
       "<table border=\"1\" class=\"dataframe\">\n",
       "  <thead>\n",
       "    <tr style=\"text-align: right;\">\n",
       "      <th></th>\n",
       "      <th>aa</th>\n",
       "      <th>aaaand</th>\n",
       "      <th>aabaesc</th>\n",
       "      <th>aagilent</th>\n",
       "      <th>aaii</th>\n",
       "      <th>aal</th>\n",
       "      <th>aapl</th>\n",
       "      <th>aaplmsft</th>\n",
       "      <th>aapls</th>\n",
       "      <th>aaron</th>\n",
       "      <th>...</th>\n",
       "      <th>zone</th>\n",
       "      <th>zonezonetail</th>\n",
       "      <th>zoom</th>\n",
       "      <th>zscaler</th>\n",
       "      <th>ztna</th>\n",
       "      <th>zuckerberg</th>\n",
       "      <th>zuckerbergs</th>\n",
       "      <th>zucks</th>\n",
       "      <th>zvia</th>\n",
       "      <th>zzillow</th>\n",
       "    </tr>\n",
       "  </thead>\n",
       "  <tbody>\n",
       "    <tr>\n",
       "      <th>0</th>\n",
       "      <td>1</td>\n",
       "      <td>1</td>\n",
       "      <td>1</td>\n",
       "      <td>1</td>\n",
       "      <td>7</td>\n",
       "      <td>5</td>\n",
       "      <td>78</td>\n",
       "      <td>1</td>\n",
       "      <td>2</td>\n",
       "      <td>2</td>\n",
       "      <td>...</td>\n",
       "      <td>2</td>\n",
       "      <td>1</td>\n",
       "      <td>15</td>\n",
       "      <td>6</td>\n",
       "      <td>1</td>\n",
       "      <td>1</td>\n",
       "      <td>1</td>\n",
       "      <td>1</td>\n",
       "      <td>1</td>\n",
       "      <td>1</td>\n",
       "    </tr>\n",
       "  </tbody>\n",
       "</table>\n",
       "<p>1 rows × 15201 columns</p>\n",
       "</div>"
      ],
      "text/plain": [
       "   aa  aaaand  aabaesc  aagilent  aaii  aal  aapl  aaplmsft  aapls  aaron  \\\n",
       "0   1       1        1         1     7    5    78         1      2      2   \n",
       "\n",
       "   ...  zone  zonezonetail  zoom  zscaler  ztna  zuckerberg  zuckerbergs  \\\n",
       "0  ...     2             1    15        6     1           1            1   \n",
       "\n",
       "   zucks  zvia  zzillow  \n",
       "0      1     1        1  \n",
       "\n",
       "[1 rows x 15201 columns]"
      ]
     },
     "execution_count": 83,
     "metadata": {},
     "output_type": "execute_result"
    }
   ],
   "source": [
    "# Sum all the rows of 'X_counts' to 1 row, and store it in a data frame 'X_counts_df'\n",
    "X_counts_df = pd.DataFrame(X_counts.sum(axis=0))\n",
    "\n",
    "# Rename the columns with the words\n",
    "X_counts_df.columns = ngram_vect.get_feature_names()\n",
    "\n",
    "# Print a few rows of'X_counts_df'\n",
    "X_counts_df.head()"
   ]
  },
  {
   "cell_type": "code",
   "execution_count": 84,
   "metadata": {},
   "outputs": [],
   "source": [
    "# Transpose the 'X_counts_df' and store in 'X_counts_df_transposed'\n",
    "X_counts_df_transposed = X_counts_df.T"
   ]
  },
  {
   "cell_type": "code",
   "execution_count": 85,
   "metadata": {},
   "outputs": [
    {
     "data": {
      "text/html": [
       "<div>\n",
       "<style scoped>\n",
       "    .dataframe tbody tr th:only-of-type {\n",
       "        vertical-align: middle;\n",
       "    }\n",
       "\n",
       "    .dataframe tbody tr th {\n",
       "        vertical-align: top;\n",
       "    }\n",
       "\n",
       "    .dataframe thead th {\n",
       "        text-align: right;\n",
       "    }\n",
       "</style>\n",
       "<table border=\"1\" class=\"dataframe\">\n",
       "  <thead>\n",
       "    <tr style=\"text-align: right;\">\n",
       "      <th></th>\n",
       "      <th>0</th>\n",
       "    </tr>\n",
       "  </thead>\n",
       "  <tbody>\n",
       "    <tr>\n",
       "      <th>aa</th>\n",
       "      <td>1</td>\n",
       "    </tr>\n",
       "    <tr>\n",
       "      <th>aaaand</th>\n",
       "      <td>1</td>\n",
       "    </tr>\n",
       "    <tr>\n",
       "      <th>aabaesc</th>\n",
       "      <td>1</td>\n",
       "    </tr>\n",
       "    <tr>\n",
       "      <th>aagilent</th>\n",
       "      <td>1</td>\n",
       "    </tr>\n",
       "    <tr>\n",
       "      <th>aaii</th>\n",
       "      <td>7</td>\n",
       "    </tr>\n",
       "  </tbody>\n",
       "</table>\n",
       "</div>"
      ],
      "text/plain": [
       "          0\n",
       "aa        1\n",
       "aaaand    1\n",
       "aabaesc   1\n",
       "aagilent  1\n",
       "aaii      7"
      ]
     },
     "execution_count": 85,
     "metadata": {},
     "output_type": "execute_result"
    }
   ],
   "source": [
    "# Print a few rows of \"X_counts_df_transposed\"\n",
    "X_counts_df_transposed.head()"
   ]
  },
  {
   "cell_type": "code",
   "execution_count": 86,
   "metadata": {},
   "outputs": [],
   "source": [
    "# Rename the column from 0 to 'count'\n",
    "X_counts_df_transposed.rename(columns={0: 'count'}, inplace = True)"
   ]
  },
  {
   "cell_type": "code",
   "execution_count": 87,
   "metadata": {},
   "outputs": [],
   "source": [
    "# Sort the dataframe by 'count' in descending order\n",
    "X_counts_df_transposed = X_counts_df_transposed.sort_values(by = 'count', ascending = False)"
   ]
  },
  {
   "cell_type": "code",
   "execution_count": 88,
   "metadata": {},
   "outputs": [
    {
     "data": {
      "text/html": [
       "<div>\n",
       "<style scoped>\n",
       "    .dataframe tbody tr th:only-of-type {\n",
       "        vertical-align: middle;\n",
       "    }\n",
       "\n",
       "    .dataframe tbody tr th {\n",
       "        vertical-align: top;\n",
       "    }\n",
       "\n",
       "    .dataframe thead th {\n",
       "        text-align: right;\n",
       "    }\n",
       "</style>\n",
       "<table border=\"1\" class=\"dataframe\">\n",
       "  <thead>\n",
       "    <tr style=\"text-align: right;\">\n",
       "      <th></th>\n",
       "      <th>count</th>\n",
       "    </tr>\n",
       "  </thead>\n",
       "  <tbody>\n",
       "    <tr>\n",
       "      <th>stock</th>\n",
       "      <td>2761</td>\n",
       "    </tr>\n",
       "    <tr>\n",
       "      <th>company</th>\n",
       "      <td>1853</td>\n",
       "    </tr>\n",
       "    <tr>\n",
       "      <th>market</th>\n",
       "      <td>1526</td>\n",
       "    </tr>\n",
       "    <tr>\n",
       "      <th>price</th>\n",
       "      <td>1493</td>\n",
       "    </tr>\n",
       "    <tr>\n",
       "      <th>year</th>\n",
       "      <td>1279</td>\n",
       "    </tr>\n",
       "  </tbody>\n",
       "</table>\n",
       "</div>"
      ],
      "text/plain": [
       "         count\n",
       "stock     2761\n",
       "company   1853\n",
       "market    1526\n",
       "price     1493\n",
       "year      1279"
      ]
     },
     "execution_count": 88,
     "metadata": {},
     "output_type": "execute_result"
    }
   ],
   "source": [
    "# Print a few rows of \"X_counts_2_df_transposed\"\n",
    "X_counts_df_transposed.head()"
   ]
  },
  {
   "cell_type": "code",
   "execution_count": 89,
   "metadata": {},
   "outputs": [],
   "source": [
    "# Store the top 20 2-word combinations into 'X_counts_df_transposed_top20'\n",
    "X_counts_df_transposed_top20 = X_counts_df_transposed.head(20)"
   ]
  },
  {
   "cell_type": "code",
   "execution_count": 90,
   "metadata": {},
   "outputs": [
    {
     "data": {
      "image/png": "[encoded data removed]",
      "text/plain": [
       "<Figure size 432x432 with 1 Axes>"
      ]
     },
     "metadata": {},
     "output_type": "display_data"
    }
   ],
   "source": [
    "# Plot the horizontal bar chart \n",
    "ax = X_counts_df_transposed_top20.plot(kind='barh', figsize = (6,6))\n",
    "ax.invert_yaxis()          # Invert the y-axis from more to less\n",
    "plt.xlabel('Frequency of 1-word appearance')\n",
    "plt.ylabel('Word')\n",
    "plt.title('Frequency of 1-word appearance appeared in subreddit \"Stocks\"')\n",
    "# Save the chart\n",
    "plt.savefig('../Presentation Slides/Image Used in Slides/Barchart_word_stocks.png')"
   ]
  },
  {
   "cell_type": "markdown",
   "metadata": {},
   "source": [
    "#### 1 x 1 N-Gram - 'CryptoCurrency' Subreddit"
   ]
  },
  {
   "cell_type": "code",
   "execution_count": 91,
   "metadata": {},
   "outputs": [
    {
     "name": "stdout",
     "output_type": "stream",
     "text": [
      "(1700, 11802)\n"
     ]
    }
   ],
   "source": [
    "# Do a count vectorizer with a parameter of 1 by 1, unigram.\n",
    "ngram_vect = CountVectorizer(ngram_range=(1,1))\n",
    "# Transform the 'title_selftext+clean_joined' in 'stocks' into a sparse matrix \n",
    "X_counts = ngram_vect.fit_transform(final_dataset_crypto['title+selftext_clean_joined'])\n",
    "\n",
    "# 'Stocks' dataset has 11,795 unique 1-word\n",
    "print(X_counts.shape)"
   ]
  },
  {
   "cell_type": "code",
   "execution_count": 92,
   "metadata": {},
   "outputs": [
    {
     "data": {
      "text/html": [
       "<div>\n",
       "<style scoped>\n",
       "    .dataframe tbody tr th:only-of-type {\n",
       "        vertical-align: middle;\n",
       "    }\n",
       "\n",
       "    .dataframe tbody tr th {\n",
       "        vertical-align: top;\n",
       "    }\n",
       "\n",
       "    .dataframe thead th {\n",
       "        text-align: right;\n",
       "    }\n",
       "</style>\n",
       "<table border=\"1\" class=\"dataframe\">\n",
       "  <thead>\n",
       "    <tr style=\"text-align: right;\">\n",
       "      <th></th>\n",
       "      <th>aa</th>\n",
       "      <th>aaa</th>\n",
       "      <th>aaaaand</th>\n",
       "      <th>aaab</th>\n",
       "      <th>aaand</th>\n",
       "      <th>aave</th>\n",
       "      <th>aavecompound</th>\n",
       "      <th>aavegotchi</th>\n",
       "      <th>abandon</th>\n",
       "      <th>abandoned</th>\n",
       "      <th>...</th>\n",
       "      <th>zilliqa</th>\n",
       "      <th>zillqa</th>\n",
       "      <th>zilpay</th>\n",
       "      <th>zimbabwe</th>\n",
       "      <th>zone</th>\n",
       "      <th>zoo</th>\n",
       "      <th>zoom</th>\n",
       "      <th>zooming</th>\n",
       "      <th>zug</th>\n",
       "      <th>zynga</th>\n",
       "    </tr>\n",
       "  </thead>\n",
       "  <tbody>\n",
       "    <tr>\n",
       "      <th>0</th>\n",
       "      <td>4</td>\n",
       "      <td>4</td>\n",
       "      <td>1</td>\n",
       "      <td>1</td>\n",
       "      <td>1</td>\n",
       "      <td>13</td>\n",
       "      <td>1</td>\n",
       "      <td>1</td>\n",
       "      <td>1</td>\n",
       "      <td>4</td>\n",
       "      <td>...</td>\n",
       "      <td>2</td>\n",
       "      <td>1</td>\n",
       "      <td>1</td>\n",
       "      <td>1</td>\n",
       "      <td>1</td>\n",
       "      <td>2</td>\n",
       "      <td>13</td>\n",
       "      <td>4</td>\n",
       "      <td>1</td>\n",
       "      <td>1</td>\n",
       "    </tr>\n",
       "  </tbody>\n",
       "</table>\n",
       "<p>1 rows × 11802 columns</p>\n",
       "</div>"
      ],
      "text/plain": [
       "   aa  aaa  aaaaand  aaab  aaand  aave  aavecompound  aavegotchi  abandon  \\\n",
       "0   4    4        1     1      1    13             1           1        1   \n",
       "\n",
       "   abandoned  ...  zilliqa  zillqa  zilpay  zimbabwe  zone  zoo  zoom  \\\n",
       "0          4  ...        2       1       1         1     1    2    13   \n",
       "\n",
       "   zooming  zug  zynga  \n",
       "0        4    1      1  \n",
       "\n",
       "[1 rows x 11802 columns]"
      ]
     },
     "execution_count": 92,
     "metadata": {},
     "output_type": "execute_result"
    }
   ],
   "source": [
    "# Sum all the rows of 'X_counts' to 1 row, and store it in a data frame 'X_counts_df'\n",
    "X_counts_df = pd.DataFrame(X_counts.sum(axis=0))\n",
    "\n",
    "# Rename the columns with the words\n",
    "X_counts_df.columns = ngram_vect.get_feature_names()\n",
    "\n",
    "# Print a few rows of'X_counts_df'\n",
    "X_counts_df.head()"
   ]
  },
  {
   "cell_type": "code",
   "execution_count": 93,
   "metadata": {},
   "outputs": [],
   "source": [
    "# Transpose the 'X_counts_df' and store in 'X_counts_df_transposed'\n",
    "X_counts_df_transposed = X_counts_df.T"
   ]
  },
  {
   "cell_type": "code",
   "execution_count": 94,
   "metadata": {},
   "outputs": [
    {
     "data": {
      "text/html": [
       "<div>\n",
       "<style scoped>\n",
       "    .dataframe tbody tr th:only-of-type {\n",
       "        vertical-align: middle;\n",
       "    }\n",
       "\n",
       "    .dataframe tbody tr th {\n",
       "        vertical-align: top;\n",
       "    }\n",
       "\n",
       "    .dataframe thead th {\n",
       "        text-align: right;\n",
       "    }\n",
       "</style>\n",
       "<table border=\"1\" class=\"dataframe\">\n",
       "  <thead>\n",
       "    <tr style=\"text-align: right;\">\n",
       "      <th></th>\n",
       "      <th>0</th>\n",
       "    </tr>\n",
       "  </thead>\n",
       "  <tbody>\n",
       "    <tr>\n",
       "      <th>aa</th>\n",
       "      <td>4</td>\n",
       "    </tr>\n",
       "    <tr>\n",
       "      <th>aaa</th>\n",
       "      <td>4</td>\n",
       "    </tr>\n",
       "    <tr>\n",
       "      <th>aaaaand</th>\n",
       "      <td>1</td>\n",
       "    </tr>\n",
       "    <tr>\n",
       "      <th>aaab</th>\n",
       "      <td>1</td>\n",
       "    </tr>\n",
       "    <tr>\n",
       "      <th>aaand</th>\n",
       "      <td>1</td>\n",
       "    </tr>\n",
       "  </tbody>\n",
       "</table>\n",
       "</div>"
      ],
      "text/plain": [
       "         0\n",
       "aa       4\n",
       "aaa      4\n",
       "aaaaand  1\n",
       "aaab     1\n",
       "aaand    1"
      ]
     },
     "execution_count": 94,
     "metadata": {},
     "output_type": "execute_result"
    }
   ],
   "source": [
    "# Print a few rows of \"X_counts_df_transposed\"\n",
    "X_counts_df_transposed.head()"
   ]
  },
  {
   "cell_type": "code",
   "execution_count": 95,
   "metadata": {},
   "outputs": [],
   "source": [
    "# Rename the column from 0 to 'count'\n",
    "X_counts_df_transposed.rename(columns={0: 'count'}, inplace = True)"
   ]
  },
  {
   "cell_type": "code",
   "execution_count": 96,
   "metadata": {},
   "outputs": [],
   "source": [
    "# Sort the dataframe by 'count' in descending order\n",
    "X_counts_df_transposed = X_counts_df_transposed.sort_values(by = 'count', ascending = False)"
   ]
  },
  {
   "cell_type": "code",
   "execution_count": 97,
   "metadata": {},
   "outputs": [
    {
     "data": {
      "text/html": [
       "<div>\n",
       "<style scoped>\n",
       "    .dataframe tbody tr th:only-of-type {\n",
       "        vertical-align: middle;\n",
       "    }\n",
       "\n",
       "    .dataframe tbody tr th {\n",
       "        vertical-align: top;\n",
       "    }\n",
       "\n",
       "    .dataframe thead th {\n",
       "        text-align: right;\n",
       "    }\n",
       "</style>\n",
       "<table border=\"1\" class=\"dataframe\">\n",
       "  <thead>\n",
       "    <tr style=\"text-align: right;\">\n",
       "      <th></th>\n",
       "      <th>count</th>\n",
       "    </tr>\n",
       "  </thead>\n",
       "  <tbody>\n",
       "    <tr>\n",
       "      <th>crypto</th>\n",
       "      <td>2045</td>\n",
       "    </tr>\n",
       "    <tr>\n",
       "      <th>market</th>\n",
       "      <td>1148</td>\n",
       "    </tr>\n",
       "    <tr>\n",
       "      <th>coin</th>\n",
       "      <td>1086</td>\n",
       "    </tr>\n",
       "    <tr>\n",
       "      <th>im</th>\n",
       "      <td>978</td>\n",
       "    </tr>\n",
       "    <tr>\n",
       "      <th>like</th>\n",
       "      <td>972</td>\n",
       "    </tr>\n",
       "  </tbody>\n",
       "</table>\n",
       "</div>"
      ],
      "text/plain": [
       "        count\n",
       "crypto   2045\n",
       "market   1148\n",
       "coin     1086\n",
       "im        978\n",
       "like      972"
      ]
     },
     "execution_count": 97,
     "metadata": {},
     "output_type": "execute_result"
    }
   ],
   "source": [
    "# Print a few rows of \"X_counts_2_df_transposed\"\n",
    "X_counts_df_transposed.head()"
   ]
  },
  {
   "cell_type": "code",
   "execution_count": 98,
   "metadata": {},
   "outputs": [],
   "source": [
    "# Store the top 20 2-word combinations into 'X_counts_df_transposed_top20'\n",
    "X_counts_df_transposed_top20 = X_counts_df_transposed.head(20)"
   ]
  },
  {
   "cell_type": "code",
   "execution_count": 99,
   "metadata": {},
   "outputs": [
    {
     "data": {
      "image/png": "[encoded data removed]",
      "text/plain": [
       "<Figure size 432x432 with 1 Axes>"
      ]
     },
     "metadata": {},
     "output_type": "display_data"
    }
   ],
   "source": [
    "# Plot the horizontal bar chart \n",
    "ax = X_counts_df_transposed_top20.plot(kind='barh', figsize = (6,6))\n",
    "ax.invert_yaxis()          # Invert the y-axis from more to less\n",
    "plt.xlabel('Frequency of 1-word appearance')\n",
    "plt.ylabel('Word')\n",
    "plt.title('Frequency of 1-word appearance appeared in subreddit \"CryptoCurrency\"')\n",
    "# Save the chart\n",
    "plt.savefig('../Presentation Slides/Image Used in Slides/Barchart_word_crypto.png')"
   ]
  },
  {
   "cell_type": "markdown",
   "metadata": {},
   "source": [
    "#### 2 x 2 N-Gram - 'Stocks' Subreddit"
   ]
  },
  {
   "cell_type": "code",
   "execution_count": 100,
   "metadata": {
    "scrolled": false
   },
   "outputs": [
    {
     "name": "stdout",
     "output_type": "stream",
     "text": [
      "(1700, 131234)\n"
     ]
    }
   ],
   "source": [
    "# Do a count vectorizer with a parameter of 2 by 2, bigram.\n",
    "ngram_vect = CountVectorizer(ngram_range=(2,2))\n",
    "# Transform the 'title_selftext+clean_joined' in 'stocks' into a sparse matrix \n",
    "X_counts_2 = ngram_vect.fit_transform(final_dataset_stocks['title+selftext_clean_joined'])\n",
    "\n",
    "# 'Stocks' dataset has 131,234 unique 2-word combination\n",
    "print(X_counts_2.shape)"
   ]
  },
  {
   "cell_type": "code",
   "execution_count": 101,
   "metadata": {
    "scrolled": true
   },
   "outputs": [
    {
     "data": {
      "text/html": [
       "<div>\n",
       "<style scoped>\n",
       "    .dataframe tbody tr th:only-of-type {\n",
       "        vertical-align: middle;\n",
       "    }\n",
       "\n",
       "    .dataframe tbody tr th {\n",
       "        vertical-align: top;\n",
       "    }\n",
       "\n",
       "    .dataframe thead th {\n",
       "        text-align: right;\n",
       "    }\n",
       "</style>\n",
       "<table border=\"1\" class=\"dataframe\">\n",
       "  <thead>\n",
       "    <tr style=\"text-align: right;\">\n",
       "      <th></th>\n",
       "      <th>aa new</th>\n",
       "      <th>aaaand fed</th>\n",
       "      <th>aabaesc worth</th>\n",
       "      <th>aagilent technology</th>\n",
       "      <th>aaii investor</th>\n",
       "      <th>aaii saw</th>\n",
       "      <th>aaii survey</th>\n",
       "      <th>aaii weekly</th>\n",
       "      <th>aal airline</th>\n",
       "      <th>aal delta</th>\n",
       "      <th>...</th>\n",
       "      <th>zscaler needham</th>\n",
       "      <th>zscaler piper</th>\n",
       "      <th>zscaler target</th>\n",
       "      <th>zscaler vlad</th>\n",
       "      <th>ztna product</th>\n",
       "      <th>zuckerberg subpoenaed</th>\n",
       "      <th>zuckerbergs idea</th>\n",
       "      <th>zucks playbook</th>\n",
       "      <th>zvia price</th>\n",
       "      <th>zzillow average</th>\n",
       "    </tr>\n",
       "  </thead>\n",
       "  <tbody>\n",
       "    <tr>\n",
       "      <th>0</th>\n",
       "      <td>1</td>\n",
       "      <td>1</td>\n",
       "      <td>1</td>\n",
       "      <td>1</td>\n",
       "      <td>1</td>\n",
       "      <td>1</td>\n",
       "      <td>4</td>\n",
       "      <td>1</td>\n",
       "      <td>1</td>\n",
       "      <td>1</td>\n",
       "      <td>...</td>\n",
       "      <td>1</td>\n",
       "      <td>1</td>\n",
       "      <td>2</td>\n",
       "      <td>1</td>\n",
       "      <td>1</td>\n",
       "      <td>1</td>\n",
       "      <td>1</td>\n",
       "      <td>1</td>\n",
       "      <td>1</td>\n",
       "      <td>1</td>\n",
       "    </tr>\n",
       "  </tbody>\n",
       "</table>\n",
       "<p>1 rows × 131234 columns</p>\n",
       "</div>"
      ],
      "text/plain": [
       "   aa new  aaaand fed  aabaesc worth  aagilent technology  aaii investor  \\\n",
       "0       1           1              1                    1              1   \n",
       "\n",
       "   aaii saw  aaii survey  aaii weekly  aal airline  aal delta  ...  \\\n",
       "0         1            4            1            1          1  ...   \n",
       "\n",
       "   zscaler needham  zscaler piper  zscaler target  zscaler vlad  ztna product  \\\n",
       "0                1              1               2             1             1   \n",
       "\n",
       "   zuckerberg subpoenaed  zuckerbergs idea  zucks playbook  zvia price  \\\n",
       "0                      1                 1               1           1   \n",
       "\n",
       "   zzillow average  \n",
       "0                1  \n",
       "\n",
       "[1 rows x 131234 columns]"
      ]
     },
     "execution_count": 101,
     "metadata": {},
     "output_type": "execute_result"
    }
   ],
   "source": [
    "# Sum all the rows of 'X_counts_2' to 1 row, and store it in a data frame 'X_counts_2_df'\n",
    "X_counts_2_df = pd.DataFrame(X_counts_2.sum(axis=0))\n",
    "\n",
    "# Rename the columns with the words\n",
    "X_counts_2_df.columns = ngram_vect.get_feature_names()\n",
    "\n",
    "# Print a few rows of'X_counts_2_df'\n",
    "X_counts_2_df.head()"
   ]
  },
  {
   "cell_type": "code",
   "execution_count": 102,
   "metadata": {},
   "outputs": [],
   "source": [
    "# Transpose the 'X_counts_2_df' and store in 'X_counts_2_df_transposed'\n",
    "X_counts_2_df_transposed = X_counts_2_df.T"
   ]
  },
  {
   "cell_type": "code",
   "execution_count": 103,
   "metadata": {},
   "outputs": [
    {
     "data": {
      "text/html": [
       "<div>\n",
       "<style scoped>\n",
       "    .dataframe tbody tr th:only-of-type {\n",
       "        vertical-align: middle;\n",
       "    }\n",
       "\n",
       "    .dataframe tbody tr th {\n",
       "        vertical-align: top;\n",
       "    }\n",
       "\n",
       "    .dataframe thead th {\n",
       "        text-align: right;\n",
       "    }\n",
       "</style>\n",
       "<table border=\"1\" class=\"dataframe\">\n",
       "  <thead>\n",
       "    <tr style=\"text-align: right;\">\n",
       "      <th></th>\n",
       "      <th>0</th>\n",
       "    </tr>\n",
       "  </thead>\n",
       "  <tbody>\n",
       "    <tr>\n",
       "      <th>aa new</th>\n",
       "      <td>1</td>\n",
       "    </tr>\n",
       "    <tr>\n",
       "      <th>aaaand fed</th>\n",
       "      <td>1</td>\n",
       "    </tr>\n",
       "    <tr>\n",
       "      <th>aabaesc worth</th>\n",
       "      <td>1</td>\n",
       "    </tr>\n",
       "    <tr>\n",
       "      <th>aagilent technology</th>\n",
       "      <td>1</td>\n",
       "    </tr>\n",
       "    <tr>\n",
       "      <th>aaii investor</th>\n",
       "      <td>1</td>\n",
       "    </tr>\n",
       "  </tbody>\n",
       "</table>\n",
       "</div>"
      ],
      "text/plain": [
       "                     0\n",
       "aa new               1\n",
       "aaaand fed           1\n",
       "aabaesc worth        1\n",
       "aagilent technology  1\n",
       "aaii investor        1"
      ]
     },
     "execution_count": 103,
     "metadata": {},
     "output_type": "execute_result"
    }
   ],
   "source": [
    "# Print a few rows of \"X_counts_2_df_transposed\"\n",
    "X_counts_2_df_transposed.head()"
   ]
  },
  {
   "cell_type": "code",
   "execution_count": 104,
   "metadata": {},
   "outputs": [],
   "source": [
    "# Rename the column from 0 to 'count'\n",
    "X_counts_2_df_transposed.rename(columns={0: 'count'}, inplace = True)"
   ]
  },
  {
   "cell_type": "code",
   "execution_count": 105,
   "metadata": {
    "scrolled": true
   },
   "outputs": [],
   "source": [
    "# Sort the dataframe by 'count' in descending order\n",
    "X_counts_2_df_transposed = X_counts_2_df_transposed.sort_values(by = 'count', ascending = False)"
   ]
  },
  {
   "cell_type": "code",
   "execution_count": 106,
   "metadata": {},
   "outputs": [
    {
     "data": {
      "text/html": [
       "<div>\n",
       "<style scoped>\n",
       "    .dataframe tbody tr th:only-of-type {\n",
       "        vertical-align: middle;\n",
       "    }\n",
       "\n",
       "    .dataframe tbody tr th {\n",
       "        vertical-align: top;\n",
       "    }\n",
       "\n",
       "    .dataframe thead th {\n",
       "        text-align: right;\n",
       "    }\n",
       "</style>\n",
       "<table border=\"1\" class=\"dataframe\">\n",
       "  <thead>\n",
       "    <tr style=\"text-align: right;\">\n",
       "      <th></th>\n",
       "      <th>count</th>\n",
       "    </tr>\n",
       "  </thead>\n",
       "  <tbody>\n",
       "    <tr>\n",
       "      <th>price target</th>\n",
       "      <td>257</td>\n",
       "    </tr>\n",
       "    <tr>\n",
       "      <th>long term</th>\n",
       "      <td>193</td>\n",
       "    </tr>\n",
       "    <tr>\n",
       "      <th>stock currently</th>\n",
       "      <td>173</td>\n",
       "    </tr>\n",
       "    <tr>\n",
       "      <th>currently around</th>\n",
       "      <td>164</td>\n",
       "    </tr>\n",
       "    <tr>\n",
       "      <th>market cap</th>\n",
       "      <td>153</td>\n",
       "    </tr>\n",
       "  </tbody>\n",
       "</table>\n",
       "</div>"
      ],
      "text/plain": [
       "                  count\n",
       "price target        257\n",
       "long term           193\n",
       "stock currently     173\n",
       "currently around    164\n",
       "market cap          153"
      ]
     },
     "execution_count": 106,
     "metadata": {},
     "output_type": "execute_result"
    }
   ],
   "source": [
    "# Print a few rows of \"X_counts_2_df_transposed\"\n",
    "X_counts_2_df_transposed.head()"
   ]
  },
  {
   "cell_type": "code",
   "execution_count": 107,
   "metadata": {},
   "outputs": [],
   "source": [
    "# Store the top 20 2-word combinations into 'X_counts_2_df_transposed_top20'\n",
    "X_counts_2_df_transposed_top20 = X_counts_2_df_transposed.head(20)"
   ]
  },
  {
   "cell_type": "code",
   "execution_count": 108,
   "metadata": {
    "scrolled": false
   },
   "outputs": [
    {
     "data": {
      "image/png": "[encoded data removed]",
      "text/plain": [
       "<Figure size 432x432 with 1 Axes>"
      ]
     },
     "metadata": {},
     "output_type": "display_data"
    }
   ],
   "source": [
    "# Plot the horizontal bar chart \n",
    "ax = X_counts_2_df_transposed_top20.plot(kind='barh', figsize = (6,6))\n",
    "ax.invert_yaxis()          # Invert the y-axis from more to less\n",
    "plt.xlabel('Frequency of 2-word combination')\n",
    "plt.ylabel('2-word combination')\n",
    "plt.title('Frequency of 2-word combination appeared in subreddit \"Stocks\"')\n",
    "# Save the chart\n",
    "plt.savefig('../Presentation Slides/Image Used in Slides/Barchart_2word_stocks.png')"
   ]
  },
  {
   "cell_type": "markdown",
   "metadata": {},
   "source": [
    "#### 2 x 2 N-Gram - 'CryptoCurrency' Subreddit"
   ]
  },
  {
   "cell_type": "code",
   "execution_count": 109,
   "metadata": {},
   "outputs": [
    {
     "name": "stdout",
     "output_type": "stream",
     "text": [
      "(1700, 100473)\n"
     ]
    }
   ],
   "source": [
    "# Do a count vectorizer with a parameter of 2 by 2, bigram.\n",
    "ngram_vect = CountVectorizer(ngram_range=(2,2))\n",
    "# Transform the 'title_selftext+clean_joined' in 'stocks' into a sparse matrix \n",
    "X_counts_2 = ngram_vect.fit_transform(final_dataset_crypto['title+selftext_clean_joined'])\n",
    "\n",
    "# 'Crypto' dataset has 100,377 unique 2-word combination\n",
    "print(X_counts_2.shape)"
   ]
  },
  {
   "cell_type": "code",
   "execution_count": 110,
   "metadata": {},
   "outputs": [
    {
     "data": {
      "text/html": [
       "<div>\n",
       "<style scoped>\n",
       "    .dataframe tbody tr th:only-of-type {\n",
       "        vertical-align: middle;\n",
       "    }\n",
       "\n",
       "    .dataframe tbody tr th {\n",
       "        vertical-align: top;\n",
       "    }\n",
       "\n",
       "    .dataframe thead th {\n",
       "        text-align: right;\n",
       "    }\n",
       "</style>\n",
       "<table border=\"1\" class=\"dataframe\">\n",
       "  <thead>\n",
       "    <tr style=\"text-align: right;\">\n",
       "      <th></th>\n",
       "      <th>aa aa</th>\n",
       "      <th>aa coin</th>\n",
       "      <th>aaa aaab</th>\n",
       "      <th>aaa form</th>\n",
       "      <th>aaa game</th>\n",
       "      <th>aaa title</th>\n",
       "      <th>aaaaand im</th>\n",
       "      <th>aaab baac</th>\n",
       "      <th>aaand important</th>\n",
       "      <th>aave aave</th>\n",
       "      <th>...</th>\n",
       "      <th>zoom lucky</th>\n",
       "      <th>zoom outthe</th>\n",
       "      <th>zoom theyll</th>\n",
       "      <th>zoom way</th>\n",
       "      <th>zoom whats</th>\n",
       "      <th>zooming brings</th>\n",
       "      <th>zooming help</th>\n",
       "      <th>zooming show</th>\n",
       "      <th>zug switzerland</th>\n",
       "      <th>zynga worked</th>\n",
       "    </tr>\n",
       "  </thead>\n",
       "  <tbody>\n",
       "    <tr>\n",
       "      <th>0</th>\n",
       "      <td>3</td>\n",
       "      <td>1</td>\n",
       "      <td>1</td>\n",
       "      <td>1</td>\n",
       "      <td>1</td>\n",
       "      <td>1</td>\n",
       "      <td>1</td>\n",
       "      <td>1</td>\n",
       "      <td>1</td>\n",
       "      <td>2</td>\n",
       "      <td>...</td>\n",
       "      <td>1</td>\n",
       "      <td>1</td>\n",
       "      <td>1</td>\n",
       "      <td>1</td>\n",
       "      <td>1</td>\n",
       "      <td>1</td>\n",
       "      <td>1</td>\n",
       "      <td>1</td>\n",
       "      <td>1</td>\n",
       "      <td>1</td>\n",
       "    </tr>\n",
       "  </tbody>\n",
       "</table>\n",
       "<p>1 rows × 100473 columns</p>\n",
       "</div>"
      ],
      "text/plain": [
       "   aa aa  aa coin  aaa aaab  aaa form  aaa game  aaa title  aaaaand im  \\\n",
       "0      3        1         1         1         1          1           1   \n",
       "\n",
       "   aaab baac  aaand important  aave aave  ...  zoom lucky  zoom outthe  \\\n",
       "0          1                1          2  ...           1            1   \n",
       "\n",
       "   zoom theyll  zoom way  zoom whats  zooming brings  zooming help  \\\n",
       "0            1         1           1               1             1   \n",
       "\n",
       "   zooming show  zug switzerland  zynga worked  \n",
       "0             1                1             1  \n",
       "\n",
       "[1 rows x 100473 columns]"
      ]
     },
     "execution_count": 110,
     "metadata": {},
     "output_type": "execute_result"
    }
   ],
   "source": [
    "# Sum all the rows of 'X_counts_2' to 1 row, and store it in a data frame 'X_counts_2_df'\n",
    "X_counts_2_df = pd.DataFrame(X_counts_2.sum(axis=0))\n",
    "\n",
    "# Rename the columns with the words\n",
    "X_counts_2_df.columns = ngram_vect.get_feature_names()\n",
    "\n",
    "# Print a few rows of'X_counts_2_df'\n",
    "X_counts_2_df.head()"
   ]
  },
  {
   "cell_type": "code",
   "execution_count": 111,
   "metadata": {},
   "outputs": [],
   "source": [
    "# Transpose the 'X_counts_2_df' and store in 'X_counts_2_df_transposed'\n",
    "X_counts_2_df_transposed = X_counts_2_df.T"
   ]
  },
  {
   "cell_type": "code",
   "execution_count": 112,
   "metadata": {},
   "outputs": [
    {
     "data": {
      "text/html": [
       "<div>\n",
       "<style scoped>\n",
       "    .dataframe tbody tr th:only-of-type {\n",
       "        vertical-align: middle;\n",
       "    }\n",
       "\n",
       "    .dataframe tbody tr th {\n",
       "        vertical-align: top;\n",
       "    }\n",
       "\n",
       "    .dataframe thead th {\n",
       "        text-align: right;\n",
       "    }\n",
       "</style>\n",
       "<table border=\"1\" class=\"dataframe\">\n",
       "  <thead>\n",
       "    <tr style=\"text-align: right;\">\n",
       "      <th></th>\n",
       "      <th>0</th>\n",
       "    </tr>\n",
       "  </thead>\n",
       "  <tbody>\n",
       "    <tr>\n",
       "      <th>aa aa</th>\n",
       "      <td>3</td>\n",
       "    </tr>\n",
       "    <tr>\n",
       "      <th>aa coin</th>\n",
       "      <td>1</td>\n",
       "    </tr>\n",
       "    <tr>\n",
       "      <th>aaa aaab</th>\n",
       "      <td>1</td>\n",
       "    </tr>\n",
       "    <tr>\n",
       "      <th>aaa form</th>\n",
       "      <td>1</td>\n",
       "    </tr>\n",
       "    <tr>\n",
       "      <th>aaa game</th>\n",
       "      <td>1</td>\n",
       "    </tr>\n",
       "  </tbody>\n",
       "</table>\n",
       "</div>"
      ],
      "text/plain": [
       "          0\n",
       "aa aa     3\n",
       "aa coin   1\n",
       "aaa aaab  1\n",
       "aaa form  1\n",
       "aaa game  1"
      ]
     },
     "execution_count": 112,
     "metadata": {},
     "output_type": "execute_result"
    }
   ],
   "source": [
    "# Print a few rows of \"X_counts_2_df_transposed\"\n",
    "X_counts_2_df_transposed.head()"
   ]
  },
  {
   "cell_type": "code",
   "execution_count": 113,
   "metadata": {},
   "outputs": [],
   "source": [
    "# Rename the column from 0 to 'count'\n",
    "X_counts_2_df_transposed.rename(columns={0: 'count'}, inplace = True)"
   ]
  },
  {
   "cell_type": "code",
   "execution_count": 114,
   "metadata": {},
   "outputs": [],
   "source": [
    "# Sort the dataframe by 'count' in descending order\n",
    "X_counts_2_df_transposed = X_counts_2_df_transposed.sort_values(by = 'count', ascending = False)"
   ]
  },
  {
   "cell_type": "code",
   "execution_count": 115,
   "metadata": {},
   "outputs": [
    {
     "data": {
      "text/html": [
       "<div>\n",
       "<style scoped>\n",
       "    .dataframe tbody tr th:only-of-type {\n",
       "        vertical-align: middle;\n",
       "    }\n",
       "\n",
       "    .dataframe tbody tr th {\n",
       "        vertical-align: top;\n",
       "    }\n",
       "\n",
       "    .dataframe thead th {\n",
       "        text-align: right;\n",
       "    }\n",
       "</style>\n",
       "<table border=\"1\" class=\"dataframe\">\n",
       "  <thead>\n",
       "    <tr style=\"text-align: right;\">\n",
       "      <th></th>\n",
       "      <th>count</th>\n",
       "    </tr>\n",
       "  </thead>\n",
       "  <tbody>\n",
       "    <tr>\n",
       "      <th>gtpoplt gtpoplt</th>\n",
       "      <td>299</td>\n",
       "    </tr>\n",
       "    <tr>\n",
       "      <th>bear market</th>\n",
       "      <td>258</td>\n",
       "    </tr>\n",
       "    <tr>\n",
       "      <th>bull run</th>\n",
       "      <td>107</td>\n",
       "    </tr>\n",
       "    <tr>\n",
       "      <th>dont know</th>\n",
       "      <td>100</td>\n",
       "    </tr>\n",
       "    <tr>\n",
       "      <th>btc eth</th>\n",
       "      <td>97</td>\n",
       "    </tr>\n",
       "  </tbody>\n",
       "</table>\n",
       "</div>"
      ],
      "text/plain": [
       "                 count\n",
       "gtpoplt gtpoplt    299\n",
       "bear market        258\n",
       "bull run           107\n",
       "dont know          100\n",
       "btc eth             97"
      ]
     },
     "execution_count": 115,
     "metadata": {},
     "output_type": "execute_result"
    }
   ],
   "source": [
    "# Print a few rows of \"X_counts_2_df_transposed\"\n",
    "X_counts_2_df_transposed.head()"
   ]
  },
  {
   "cell_type": "code",
   "execution_count": 116,
   "metadata": {},
   "outputs": [],
   "source": [
    "# Store the top 20 2-word combinations into 'X_counts_2_df_transposed_top20'\n",
    "X_counts_2_df_transposed_top20 = X_counts_2_df_transposed.head(20)"
   ]
  },
  {
   "cell_type": "code",
   "execution_count": 117,
   "metadata": {},
   "outputs": [
    {
     "data": {
      "image/png": "[encoded data removed]",
      "text/plain": [
       "<Figure size 432x432 with 1 Axes>"
      ]
     },
     "metadata": {},
     "output_type": "display_data"
    }
   ],
   "source": [
    "# Plot the horizontal bar chart \n",
    "ax = X_counts_2_df_transposed_top20.plot(kind='barh', figsize = (6,6))\n",
    "ax.invert_yaxis()          # Invert the y-axis from more to less\n",
    "plt.xlabel('Frequency of 2-word combination')\n",
    "plt.ylabel('2-word combination')\n",
    "plt.title('Frequency of 2-word combination appeared in subreddit \"CryptoCurrency\"')\n",
    "# Save the chart\n",
    "plt.savefig('../Presentation Slides/Image Used in Slides/Barchart_2word_crypto.png')"
   ]
  },
  {
   "cell_type": "markdown",
   "metadata": {},
   "source": [
    "### Save the dataset for Part 2"
   ]
  },
  {
   "cell_type": "code",
   "execution_count": 118,
   "metadata": {},
   "outputs": [],
   "source": [
    "# Export the final dataset into csv again\n",
    "final_dataset.to_csv(\"../Excel/Final Dataset.csv\", index = False)"
   ]
  }
 ],
 "metadata": {
  "kernelspec": {
   "display_name": "Python 3",
   "language": "python",
   "name": "python3"
  },
  "language_info": {
   "codemirror_mode": {
    "name": "ipython",
    "version": 3
   },
   "file_extension": ".py",
   "mimetype": "text/x-python",
   "name": "python",
   "nbconvert_exporter": "python",
   "pygments_lexer": "ipython3",
   "version": "3.8.5"
  }
 },
 "nbformat": 4,
 "nbformat_minor": 4
}
