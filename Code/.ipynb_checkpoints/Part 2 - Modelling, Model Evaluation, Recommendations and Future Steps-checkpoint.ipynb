{
 "cells": [
  {
   "cell_type": "markdown",
   "metadata": {},
   "source": [
    "<img src=\"http://imgur.com/1ZcRyrc.png\" style=\"float: left; margin: 20px; height: 100px\">\n",
    "\n",
    "# Project 3: Web APIs & NLP\n",
    "\n",
    "# Part 2: Modelling, Model Evaluation, Recommendations and Future Steps"
   ]
  },
  {
   "cell_type": "markdown",
   "metadata": {},
   "source": [
    "### Contents:\n",
    "- [Modelling](#Modelling)\n",
    "    - [Vectorizing Raw Data](#1.-Vectorizing-Raw-Data)\n",
    "        - [Count Vectorization](#Count-Vectorization)\n",
    "        - [TFIDF Vectorization](#TF-IDF)\n",
    "    - [Naive Bayes Model with dataframe from Count Vectorization](#2.-Naive-Bayes-Model-with-dataframe-from-Count-Vectorization)\n",
    "    - [Naive Bayes Model with dataframe from TF-IDF Vectorization](#3.-Naive-Bayes-Model-with-dataframe-from-TFIDF-Vectorization)\n",
    "    - [Logistics Regression Model with dataframe from Count Vectorization](#4.-Logistics-Regression-Model-with-dataframe-from-Count-Vectorization)\n",
    "    - [Logistics Regression Model with dataframe from TF-IDF Vectorization](#5.-Logistics-Regression-Model-with-dataframe-from-TFIDF-Vectorization)\n",
    "    - [Model Chosen](#6.-Model-Chosen-Based-on-Accuracy-Score-and-Recall-Score-of-Prediction)\n",
    "- [Model Evaluation](#Model-Evaluation)\n",
    "- [Recommendations](#Recommendations)\n",
    "- [Future Steps](#Future-Steps)"
   ]
  },
  {
   "cell_type": "markdown",
   "metadata": {},
   "source": [
    "#### Import all necessary libraries"
   ]
  },
  {
   "cell_type": "code",
   "execution_count": 1,
   "metadata": {},
   "outputs": [
    {
     "name": "stderr",
     "output_type": "stream",
     "text": [
      "C:\\Users\\chiay\\anaconda3\\lib\\site-packages\\gensim\\similarities\\__init__.py:15: UserWarning: The gensim.similarities.levenshtein submodule is disabled, because the optional Levenshtein package <https://pypi.org/project/python-Levenshtein/> is unavailable. Install Levenhstein (e.g. `pip install python-Levenshtein`) to suppress this warning.\n",
      "  warnings.warn(msg)\n"
     ]
    }
   ],
   "source": [
    "# Import all necessary libraries\n",
    "import numpy as np\n",
    "import pandas as pd\n",
    "import matplotlib.pyplot as plt\n",
    "import seaborn as sns\n",
    "import requests\n",
    "import time\n",
    "import datetime as dt\n",
    "import re\n",
    "import string\n",
    "import nltk\n",
    "import gensim\n",
    "\n",
    "from sklearn.feature_extraction.text import CountVectorizer\n",
    "from sklearn.feature_extraction.text import TfidfVectorizer\n",
    "from sklearn.model_selection import train_test_split, cross_val_score\n",
    "from sklearn.metrics import confusion_matrix\n",
    "from sklearn.metrics import classification_report\n",
    "from sklearn.metrics import accuracy_score, precision_score, recall_score\n",
    "from sklearn.linear_model import LogisticRegression\n",
    "\n",
    "from sklearn.naive_bayes import BernoulliNB\n",
    "from sklearn.naive_bayes import GaussianNB\n",
    "from sklearn.naive_bayes import MultinomialNB"
   ]
  },
  {
   "cell_type": "markdown",
   "metadata": {},
   "source": [
    "#### Import dataset from Part 1"
   ]
  },
  {
   "cell_type": "code",
   "execution_count": 2,
   "metadata": {},
   "outputs": [],
   "source": [
    "# Export the final dataset into csv again\n",
    "final_dataset = pd.read_csv(\"../Excel/Final Dataset.csv\")"
   ]
  },
  {
   "cell_type": "markdown",
   "metadata": {},
   "source": [
    "# Modelling"
   ]
  },
  {
   "cell_type": "markdown",
   "metadata": {},
   "source": [
    "## 1. Vectorizing Raw Data"
   ]
  },
  {
   "cell_type": "markdown",
   "metadata": {},
   "source": [
    "### Count Vectorization"
   ]
  },
  {
   "cell_type": "code",
   "execution_count": 3,
   "metadata": {},
   "outputs": [],
   "source": [
    "# Initiate the stopwards and lemmonization\n",
    "stopwords = nltk.corpus.stopwords.words('english')\n",
    "wn = nltk.WordNetLemmatizer()"
   ]
  },
  {
   "cell_type": "code",
   "execution_count": 4,
   "metadata": {},
   "outputs": [],
   "source": [
    "# defining a function to do all followings: Remove punctuations, tokenize, remove stopwords, and lemmanize\n",
    "def clean_text(text):\n",
    "    # remove unicode characters\n",
    "    text = text.encode('ascii', 'ignore').decode()\n",
    "    # remove references to subreddits, i.e. \"r/\"WallStreetBets, numbers and http links\n",
    "    text= re.sub(r\"r/\", \"\", text)\n",
    "    text= re.sub(r\"http\\S+\", \"\", text)\n",
    "    text = re.sub(r\"\\w*\\d+\\w*\", \"\", text)\n",
    "    \n",
    "    # Remove punctuation and lowercasing the words\n",
    "    text = \"\".join([word.lower() for word in text if word not in string.punctuation])\n",
    "    \n",
    "    # \\W matches any non-word character (equivalent to [^a-zA-Z0-9_]). This does not include spaces i.e. \\s\n",
    "    # Add a + just in case there are 2 or more spaces between certain words\n",
    "    tokens = re.split('\\W+', text)\n",
    "    \n",
    "    # apply lemmanization and stopwords exclusion within the same step\n",
    "    text = [wn.lemmatize(word) for word in tokens if word not in stopwords]\n",
    "    return text"
   ]
  },
  {
   "cell_type": "code",
   "execution_count": 5,
   "metadata": {},
   "outputs": [
    {
     "name": "stdout",
     "output_type": "stream",
     "text": [
      "(3400, 20677)\n"
     ]
    }
   ],
   "source": [
    "# Create an instance of CountVectorizer and pass in the clean_text function (defined above) as the analyzer parameter\n",
    "count_vect = CountVectorizer(analyzer=clean_text)\n",
    "\n",
    "# title_and_selftext_counts stores the vectorized version of the data\n",
    "title_and_selftext_counts = count_vect.fit_transform(final_dataset['title + selftext'])\n",
    "\n",
    "# Returns the number of rows and columns of title_counts i.e. 3400 posts and 20673 unique words\n",
    "print(title_and_selftext_counts.shape)"
   ]
  },
  {
   "cell_type": "code",
   "execution_count": 6,
   "metadata": {},
   "outputs": [
    {
     "data": {
      "text/html": [
       "<div>\n",
       "<style scoped>\n",
       "    .dataframe tbody tr th:only-of-type {\n",
       "        vertical-align: middle;\n",
       "    }\n",
       "\n",
       "    .dataframe tbody tr th {\n",
       "        vertical-align: top;\n",
       "    }\n",
       "\n",
       "    .dataframe thead th {\n",
       "        text-align: right;\n",
       "    }\n",
       "</style>\n",
       "<table border=\"1\" class=\"dataframe\">\n",
       "  <thead>\n",
       "    <tr style=\"text-align: right;\">\n",
       "      <th></th>\n",
       "      <th></th>\n",
       "      <th>aa</th>\n",
       "      <th>aaa</th>\n",
       "      <th>aaaaand</th>\n",
       "      <th>aaaand</th>\n",
       "      <th>aaab</th>\n",
       "      <th>aaand</th>\n",
       "      <th>aabaesc</th>\n",
       "      <th>aagilent</th>\n",
       "      <th>aaii</th>\n",
       "      <th>...</th>\n",
       "      <th>zooming</th>\n",
       "      <th>zscaler</th>\n",
       "      <th>ztna</th>\n",
       "      <th>zuckerberg</th>\n",
       "      <th>zuckerbergs</th>\n",
       "      <th>zucks</th>\n",
       "      <th>zug</th>\n",
       "      <th>zvia</th>\n",
       "      <th>zynga</th>\n",
       "      <th>zzillow</th>\n",
       "    </tr>\n",
       "  </thead>\n",
       "  <tbody>\n",
       "    <tr>\n",
       "      <th>0</th>\n",
       "      <td>0</td>\n",
       "      <td>0</td>\n",
       "      <td>0</td>\n",
       "      <td>0</td>\n",
       "      <td>0</td>\n",
       "      <td>0</td>\n",
       "      <td>0</td>\n",
       "      <td>0</td>\n",
       "      <td>0</td>\n",
       "      <td>0</td>\n",
       "      <td>...</td>\n",
       "      <td>0</td>\n",
       "      <td>0</td>\n",
       "      <td>0</td>\n",
       "      <td>0</td>\n",
       "      <td>0</td>\n",
       "      <td>0</td>\n",
       "      <td>0</td>\n",
       "      <td>0</td>\n",
       "      <td>0</td>\n",
       "      <td>0</td>\n",
       "    </tr>\n",
       "    <tr>\n",
       "      <th>1</th>\n",
       "      <td>0</td>\n",
       "      <td>0</td>\n",
       "      <td>0</td>\n",
       "      <td>0</td>\n",
       "      <td>0</td>\n",
       "      <td>0</td>\n",
       "      <td>0</td>\n",
       "      <td>0</td>\n",
       "      <td>0</td>\n",
       "      <td>0</td>\n",
       "      <td>...</td>\n",
       "      <td>0</td>\n",
       "      <td>0</td>\n",
       "      <td>0</td>\n",
       "      <td>0</td>\n",
       "      <td>0</td>\n",
       "      <td>0</td>\n",
       "      <td>0</td>\n",
       "      <td>0</td>\n",
       "      <td>0</td>\n",
       "      <td>0</td>\n",
       "    </tr>\n",
       "    <tr>\n",
       "      <th>2</th>\n",
       "      <td>0</td>\n",
       "      <td>0</td>\n",
       "      <td>0</td>\n",
       "      <td>0</td>\n",
       "      <td>0</td>\n",
       "      <td>0</td>\n",
       "      <td>0</td>\n",
       "      <td>0</td>\n",
       "      <td>0</td>\n",
       "      <td>0</td>\n",
       "      <td>...</td>\n",
       "      <td>0</td>\n",
       "      <td>0</td>\n",
       "      <td>0</td>\n",
       "      <td>0</td>\n",
       "      <td>0</td>\n",
       "      <td>0</td>\n",
       "      <td>0</td>\n",
       "      <td>0</td>\n",
       "      <td>0</td>\n",
       "      <td>0</td>\n",
       "    </tr>\n",
       "    <tr>\n",
       "      <th>3</th>\n",
       "      <td>0</td>\n",
       "      <td>0</td>\n",
       "      <td>0</td>\n",
       "      <td>0</td>\n",
       "      <td>0</td>\n",
       "      <td>0</td>\n",
       "      <td>0</td>\n",
       "      <td>0</td>\n",
       "      <td>0</td>\n",
       "      <td>0</td>\n",
       "      <td>...</td>\n",
       "      <td>0</td>\n",
       "      <td>0</td>\n",
       "      <td>0</td>\n",
       "      <td>0</td>\n",
       "      <td>0</td>\n",
       "      <td>0</td>\n",
       "      <td>0</td>\n",
       "      <td>0</td>\n",
       "      <td>0</td>\n",
       "      <td>0</td>\n",
       "    </tr>\n",
       "    <tr>\n",
       "      <th>4</th>\n",
       "      <td>0</td>\n",
       "      <td>0</td>\n",
       "      <td>0</td>\n",
       "      <td>0</td>\n",
       "      <td>0</td>\n",
       "      <td>0</td>\n",
       "      <td>0</td>\n",
       "      <td>0</td>\n",
       "      <td>0</td>\n",
       "      <td>0</td>\n",
       "      <td>...</td>\n",
       "      <td>0</td>\n",
       "      <td>0</td>\n",
       "      <td>0</td>\n",
       "      <td>0</td>\n",
       "      <td>0</td>\n",
       "      <td>0</td>\n",
       "      <td>0</td>\n",
       "      <td>0</td>\n",
       "      <td>0</td>\n",
       "      <td>0</td>\n",
       "    </tr>\n",
       "  </tbody>\n",
       "</table>\n",
       "<p>5 rows × 20677 columns</p>\n",
       "</div>"
      ],
      "text/plain": [
       "      aa  aaa  aaaaand  aaaand  aaab  aaand  aabaesc  aagilent  aaii  ...  \\\n",
       "0  0   0    0        0       0     0      0        0         0     0  ...   \n",
       "1  0   0    0        0       0     0      0        0         0     0  ...   \n",
       "2  0   0    0        0       0     0      0        0         0     0  ...   \n",
       "3  0   0    0        0       0     0      0        0         0     0  ...   \n",
       "4  0   0    0        0       0     0      0        0         0     0  ...   \n",
       "\n",
       "   zooming  zscaler  ztna  zuckerberg  zuckerbergs  zucks  zug  zvia  zynga  \\\n",
       "0        0        0     0           0            0      0    0     0      0   \n",
       "1        0        0     0           0            0      0    0     0      0   \n",
       "2        0        0     0           0            0      0    0     0      0   \n",
       "3        0        0     0           0            0      0    0     0      0   \n",
       "4        0        0     0           0            0      0    0     0      0   \n",
       "\n",
       "   zzillow  \n",
       "0        0  \n",
       "1        0  \n",
       "2        0  \n",
       "3        0  \n",
       "4        0  \n",
       "\n",
       "[5 rows x 20677 columns]"
      ]
     },
     "execution_count": 6,
     "metadata": {},
     "output_type": "execute_result"
    }
   ],
   "source": [
    "# Expand 'title_and_selftext_counts' out to a collection of arrays and then store it in a data frame\n",
    "title_and_selftext_counts_df = pd.DataFrame(title_and_selftext_counts.toarray())\n",
    "\n",
    "# Rename the columns with the words\n",
    "title_and_selftext_counts_df.columns = count_vect.get_feature_names()\n",
    "\n",
    "# Print a few rows of'title_and_selftext_counts_df'\n",
    "title_and_selftext_counts_df.head()"
   ]
  },
  {
   "cell_type": "markdown",
   "metadata": {},
   "source": [
    "### TF-IDF"
   ]
  },
  {
   "cell_type": "code",
   "execution_count": 7,
   "metadata": {},
   "outputs": [
    {
     "name": "stdout",
     "output_type": "stream",
     "text": [
      "(3400, 20677)\n"
     ]
    }
   ],
   "source": [
    "# Create an instance of TfidfVectorizer and pass in the clean_text function (defined above) as the analyzer parameter\n",
    "tfidf_vect = TfidfVectorizer(analyzer=clean_text)\n",
    "\n",
    "# title_and_selftext_tfidf stores the vectorized version of the data\n",
    "title_and_selftext_tfidf = tfidf_vect.fit_transform(final_dataset['title + selftext'])\n",
    "\n",
    "# Returns the number of rows and columns of title_counts i.e. 3400 posts and 25025 unique words\n",
    "print(title_and_selftext_tfidf.shape)"
   ]
  },
  {
   "cell_type": "code",
   "execution_count": 8,
   "metadata": {},
   "outputs": [
    {
     "data": {
      "text/html": [
       "<div>\n",
       "<style scoped>\n",
       "    .dataframe tbody tr th:only-of-type {\n",
       "        vertical-align: middle;\n",
       "    }\n",
       "\n",
       "    .dataframe tbody tr th {\n",
       "        vertical-align: top;\n",
       "    }\n",
       "\n",
       "    .dataframe thead th {\n",
       "        text-align: right;\n",
       "    }\n",
       "</style>\n",
       "<table border=\"1\" class=\"dataframe\">\n",
       "  <thead>\n",
       "    <tr style=\"text-align: right;\">\n",
       "      <th></th>\n",
       "      <th></th>\n",
       "      <th>aa</th>\n",
       "      <th>aaa</th>\n",
       "      <th>aaaaand</th>\n",
       "      <th>aaaand</th>\n",
       "      <th>aaab</th>\n",
       "      <th>aaand</th>\n",
       "      <th>aabaesc</th>\n",
       "      <th>aagilent</th>\n",
       "      <th>aaii</th>\n",
       "      <th>...</th>\n",
       "      <th>zooming</th>\n",
       "      <th>zscaler</th>\n",
       "      <th>ztna</th>\n",
       "      <th>zuckerberg</th>\n",
       "      <th>zuckerbergs</th>\n",
       "      <th>zucks</th>\n",
       "      <th>zug</th>\n",
       "      <th>zvia</th>\n",
       "      <th>zynga</th>\n",
       "      <th>zzillow</th>\n",
       "    </tr>\n",
       "  </thead>\n",
       "  <tbody>\n",
       "    <tr>\n",
       "      <th>0</th>\n",
       "      <td>0.0</td>\n",
       "      <td>0.0</td>\n",
       "      <td>0.0</td>\n",
       "      <td>0.0</td>\n",
       "      <td>0.0</td>\n",
       "      <td>0.0</td>\n",
       "      <td>0.0</td>\n",
       "      <td>0.0</td>\n",
       "      <td>0.0</td>\n",
       "      <td>0.0</td>\n",
       "      <td>...</td>\n",
       "      <td>0.0</td>\n",
       "      <td>0.0</td>\n",
       "      <td>0.0</td>\n",
       "      <td>0.0</td>\n",
       "      <td>0.0</td>\n",
       "      <td>0.0</td>\n",
       "      <td>0.0</td>\n",
       "      <td>0.0</td>\n",
       "      <td>0.0</td>\n",
       "      <td>0.0</td>\n",
       "    </tr>\n",
       "    <tr>\n",
       "      <th>1</th>\n",
       "      <td>0.0</td>\n",
       "      <td>0.0</td>\n",
       "      <td>0.0</td>\n",
       "      <td>0.0</td>\n",
       "      <td>0.0</td>\n",
       "      <td>0.0</td>\n",
       "      <td>0.0</td>\n",
       "      <td>0.0</td>\n",
       "      <td>0.0</td>\n",
       "      <td>0.0</td>\n",
       "      <td>...</td>\n",
       "      <td>0.0</td>\n",
       "      <td>0.0</td>\n",
       "      <td>0.0</td>\n",
       "      <td>0.0</td>\n",
       "      <td>0.0</td>\n",
       "      <td>0.0</td>\n",
       "      <td>0.0</td>\n",
       "      <td>0.0</td>\n",
       "      <td>0.0</td>\n",
       "      <td>0.0</td>\n",
       "    </tr>\n",
       "    <tr>\n",
       "      <th>2</th>\n",
       "      <td>0.0</td>\n",
       "      <td>0.0</td>\n",
       "      <td>0.0</td>\n",
       "      <td>0.0</td>\n",
       "      <td>0.0</td>\n",
       "      <td>0.0</td>\n",
       "      <td>0.0</td>\n",
       "      <td>0.0</td>\n",
       "      <td>0.0</td>\n",
       "      <td>0.0</td>\n",
       "      <td>...</td>\n",
       "      <td>0.0</td>\n",
       "      <td>0.0</td>\n",
       "      <td>0.0</td>\n",
       "      <td>0.0</td>\n",
       "      <td>0.0</td>\n",
       "      <td>0.0</td>\n",
       "      <td>0.0</td>\n",
       "      <td>0.0</td>\n",
       "      <td>0.0</td>\n",
       "      <td>0.0</td>\n",
       "    </tr>\n",
       "    <tr>\n",
       "      <th>3</th>\n",
       "      <td>0.0</td>\n",
       "      <td>0.0</td>\n",
       "      <td>0.0</td>\n",
       "      <td>0.0</td>\n",
       "      <td>0.0</td>\n",
       "      <td>0.0</td>\n",
       "      <td>0.0</td>\n",
       "      <td>0.0</td>\n",
       "      <td>0.0</td>\n",
       "      <td>0.0</td>\n",
       "      <td>...</td>\n",
       "      <td>0.0</td>\n",
       "      <td>0.0</td>\n",
       "      <td>0.0</td>\n",
       "      <td>0.0</td>\n",
       "      <td>0.0</td>\n",
       "      <td>0.0</td>\n",
       "      <td>0.0</td>\n",
       "      <td>0.0</td>\n",
       "      <td>0.0</td>\n",
       "      <td>0.0</td>\n",
       "    </tr>\n",
       "    <tr>\n",
       "      <th>4</th>\n",
       "      <td>0.0</td>\n",
       "      <td>0.0</td>\n",
       "      <td>0.0</td>\n",
       "      <td>0.0</td>\n",
       "      <td>0.0</td>\n",
       "      <td>0.0</td>\n",
       "      <td>0.0</td>\n",
       "      <td>0.0</td>\n",
       "      <td>0.0</td>\n",
       "      <td>0.0</td>\n",
       "      <td>...</td>\n",
       "      <td>0.0</td>\n",
       "      <td>0.0</td>\n",
       "      <td>0.0</td>\n",
       "      <td>0.0</td>\n",
       "      <td>0.0</td>\n",
       "      <td>0.0</td>\n",
       "      <td>0.0</td>\n",
       "      <td>0.0</td>\n",
       "      <td>0.0</td>\n",
       "      <td>0.0</td>\n",
       "    </tr>\n",
       "  </tbody>\n",
       "</table>\n",
       "<p>5 rows × 20677 columns</p>\n",
       "</div>"
      ],
      "text/plain": [
       "         aa  aaa  aaaaand  aaaand  aaab  aaand  aabaesc  aagilent  aaii  ...  \\\n",
       "0  0.0  0.0  0.0      0.0     0.0   0.0    0.0      0.0       0.0   0.0  ...   \n",
       "1  0.0  0.0  0.0      0.0     0.0   0.0    0.0      0.0       0.0   0.0  ...   \n",
       "2  0.0  0.0  0.0      0.0     0.0   0.0    0.0      0.0       0.0   0.0  ...   \n",
       "3  0.0  0.0  0.0      0.0     0.0   0.0    0.0      0.0       0.0   0.0  ...   \n",
       "4  0.0  0.0  0.0      0.0     0.0   0.0    0.0      0.0       0.0   0.0  ...   \n",
       "\n",
       "   zooming  zscaler  ztna  zuckerberg  zuckerbergs  zucks  zug  zvia  zynga  \\\n",
       "0      0.0      0.0   0.0         0.0          0.0    0.0  0.0   0.0    0.0   \n",
       "1      0.0      0.0   0.0         0.0          0.0    0.0  0.0   0.0    0.0   \n",
       "2      0.0      0.0   0.0         0.0          0.0    0.0  0.0   0.0    0.0   \n",
       "3      0.0      0.0   0.0         0.0          0.0    0.0  0.0   0.0    0.0   \n",
       "4      0.0      0.0   0.0         0.0          0.0    0.0  0.0   0.0    0.0   \n",
       "\n",
       "   zzillow  \n",
       "0      0.0  \n",
       "1      0.0  \n",
       "2      0.0  \n",
       "3      0.0  \n",
       "4      0.0  \n",
       "\n",
       "[5 rows x 20677 columns]"
      ]
     },
     "execution_count": 8,
     "metadata": {},
     "output_type": "execute_result"
    }
   ],
   "source": [
    "# Expand 'title_and_selftext_tfidf' out to a collection of arrays and then store it in a data frame\n",
    "title_and_selftext_tfidf_df = pd.DataFrame(title_and_selftext_tfidf.toarray())\n",
    "\n",
    "# Rename the columns with the words\n",
    "title_and_selftext_tfidf_df.columns = tfidf_vect.get_feature_names()\n",
    "\n",
    "# Print a few rows of'title_and_selftext_tfidf_df'\n",
    "title_and_selftext_tfidf_df.head()"
   ]
  },
  {
   "cell_type": "markdown",
   "metadata": {},
   "source": [
    "## 2. Naive Bayes Model with dataframe from Count Vectorization"
   ]
  },
  {
   "cell_type": "markdown",
   "metadata": {},
   "source": [
    "### Model Prep - Create features matrix (X) & target vector (y) and Train-test Split"
   ]
  },
  {
   "cell_type": "code",
   "execution_count": 9,
   "metadata": {},
   "outputs": [],
   "source": [
    "# Convert posts in 'stocks' to 1 and 'CryptoCurrency' to 0.\n",
    "di = {'stocks':1, 'CryptoCurrency':0}\n",
    "final_dataset['subreddit_'] = final_dataset['subreddit'].map(di)"
   ]
  },
  {
   "cell_type": "code",
   "execution_count": 10,
   "metadata": {},
   "outputs": [],
   "source": [
    "# Create features matrix (X) and target vector (y)\n",
    "X = title_and_selftext_counts_df                     \n",
    "y = final_dataset['subreddit_']     "
   ]
  },
  {
   "cell_type": "code",
   "execution_count": 11,
   "metadata": {},
   "outputs": [],
   "source": [
    "# Train-test split is done with 70/30 split and stratifying the y\n",
    "X_train, X_test, y_train, y_test = train_test_split(X, y, test_size=.3, stratify=y)"
   ]
  },
  {
   "cell_type": "markdown",
   "metadata": {},
   "source": [
    "### Naive Bayes Modelling - Bernoulli Naive Bayes"
   ]
  },
  {
   "cell_type": "code",
   "execution_count": 12,
   "metadata": {},
   "outputs": [
    {
     "name": "stdout",
     "output_type": "stream",
     "text": [
      "BernoulliNB(binarize=True)\n",
      "0.7130252100840335\n",
      "0.7621848739495798\n",
      "0.711764705882353\n",
      "0.711764705882353\n",
      "0.4372549019607843\n"
     ]
    }
   ],
   "source": [
    "# Initiate the Bernoulli Naive Bayes Model\n",
    "BernNB = BernoulliNB(binarize=True)\n",
    "\n",
    "# Fit data into the Model\n",
    "BernNB.fit(X_train, y_train)\n",
    "\n",
    "# Print the model name to ensure that it works.\n",
    "print(BernNB)\n",
    "\n",
    "# Use model to predict subreddit classifcation\n",
    "y_pred = BernNB.predict(X_test)\n",
    "\n",
    "# Do a cross-Validation with number of folds = 5\n",
    "# Print the mean cross-validation score\n",
    "print(cross_val_score(BernNB, X_train, y_train, cv=5).mean())\n",
    "\n",
    "# Print the accuracy score for train set\n",
    "print(BernNB.score(X_train, y_train))\n",
    "\n",
    "# Print the accuracy score for test set\n",
    "print(BernNB.score(X_test,y_test))\n",
    "\n",
    "# Print accuracy score for y_pred compared to y_test\n",
    "print(accuracy_score(y_test, y_pred))\n",
    "\n",
    "# Print recall score for y_pred compared to y_test\n",
    "print(recall_score(y_test, y_pred))"
   ]
  },
  {
   "cell_type": "markdown",
   "metadata": {},
   "source": [
    "### Naive Bayes Modelling - Multinomial Naive Bayes"
   ]
  },
  {
   "cell_type": "code",
   "execution_count": 13,
   "metadata": {},
   "outputs": [
    {
     "name": "stdout",
     "output_type": "stream",
     "text": [
      "MultinomialNB()\n",
      "0.9285714285714285\n",
      "0.9642857142857143\n",
      "0.9235294117647059\n",
      "0.9235294117647059\n",
      "0.8647058823529412\n"
     ]
    }
   ],
   "source": [
    "# Initiate the Multinomial Naive Bayes Model\n",
    "MultiNB = MultinomialNB()\n",
    "\n",
    "# Fit data into the Model\n",
    "MultiNB.fit(X_train, y_train)\n",
    "\n",
    "# Print the model name to ensure that it works.\n",
    "print(MultiNB)\n",
    "\n",
    "# Use model to predict subreddit classifcation\n",
    "y_pred = MultiNB.predict(X_test)\n",
    "\n",
    "# Do a cross-Validation with number of folds = 5\n",
    "# Print the mean cross-validation score\n",
    "print(cross_val_score(MultiNB, X_train, y_train, cv=5).mean())\n",
    "\n",
    "# Print the accuracy score for train set\n",
    "print(MultiNB.score(X_train, y_train))\n",
    "\n",
    "# Print the accuracy score for test set\n",
    "print(MultiNB.score(X_test, y_test))\n",
    "\n",
    "# Print accuracy score for y_pred compared to y_test\n",
    "print(accuracy_score(y_test, y_pred))\n",
    "\n",
    "# Print recall score for y_pred compared to y_test\n",
    "print(recall_score(y_test, y_pred))"
   ]
  },
  {
   "cell_type": "markdown",
   "metadata": {},
   "source": [
    "### Naive Bayes Modelling - Gaussian Naive Bayes"
   ]
  },
  {
   "cell_type": "code",
   "execution_count": 14,
   "metadata": {},
   "outputs": [
    {
     "name": "stdout",
     "output_type": "stream",
     "text": [
      "GaussianNB()\n",
      "0.8117647058823529\n",
      "0.9697478991596639\n",
      "0.8205882352941176\n",
      "0.8205882352941176\n",
      "0.7745098039215687\n"
     ]
    }
   ],
   "source": [
    "# Initiate the Gaussian Naive Bayes Model\n",
    "GausNB = GaussianNB()\n",
    "\n",
    "# Fit data into the Model\n",
    "GausNB.fit(X_train, y_train)\n",
    "\n",
    "# Print the model name to ensure that it works.\n",
    "print(GausNB)\n",
    "\n",
    "# Use model to predict subreddit classifcation\n",
    "y_pred = GausNB.predict(X_test)\n",
    "\n",
    "# Do a cross-Validation with number of folds = 5\n",
    "# Print the mean cross-validation score\n",
    "print(cross_val_score(GausNB, X_train, y_train, cv=5).mean())\n",
    "\n",
    "# Print the accuracy score for train set\n",
    "print(GausNB.score(X_train, y_train))\n",
    "\n",
    "# Print the accuracy score for test set\n",
    "print(GausNB.score(X_test, y_test))\n",
    "\n",
    "# Print accuracy score for y_pred compared to y_test\n",
    "print(accuracy_score(y_test, y_pred))\n",
    "\n",
    "# Print recall score for y_pred compared to y_test\n",
    "print(recall_score(y_test, y_pred))"
   ]
  },
  {
   "cell_type": "markdown",
   "metadata": {},
   "source": [
    "|Different Types of Naive Bayes Model |Accuracy Score of Prediction |Recall Score of Prediction|\n",
    "|:---:|:---:|:---:|\n",
    "|**Bernoulli**|0.743|0.502|\n",
    "|**Multinomial**|0.932|0.873|\n",
    "|**Gaussian**|0.828|0.778|"
   ]
  },
  {
   "cell_type": "markdown",
   "metadata": {},
   "source": [
    "#### Out of all the 3 types of Naive Bayes Models, Multinomial Naive Bayes has the highest accuracy score and recall score to predict the y. Hence, Naive Bayes Model - Multinomial is used to compare with other model combinations."
   ]
  },
  {
   "cell_type": "markdown",
   "metadata": {},
   "source": [
    "## 3. Naive Bayes Model with dataframe from TFIDF Vectorization"
   ]
  },
  {
   "cell_type": "markdown",
   "metadata": {},
   "source": [
    "### Model Prep - Create features matrix (X) & target vector (y) and Train-test Split"
   ]
  },
  {
   "cell_type": "code",
   "execution_count": 15,
   "metadata": {},
   "outputs": [],
   "source": [
    "# Create features matrix (X) and target vector (y)\n",
    "X = title_and_selftext_tfidf_df                     \n",
    "y = final_dataset['subreddit_']     "
   ]
  },
  {
   "cell_type": "code",
   "execution_count": 16,
   "metadata": {},
   "outputs": [],
   "source": [
    "# Train-test split is done with 70/30 split and stratifying the y\n",
    "X_train, X_test, y_train, y_test = train_test_split(X, y, test_size=.3, stratify=y)"
   ]
  },
  {
   "cell_type": "markdown",
   "metadata": {},
   "source": [
    "### Naive Bayes Modelling - Bernoulli Naive Bayes"
   ]
  },
  {
   "cell_type": "code",
   "execution_count": 17,
   "metadata": {},
   "outputs": [
    {
     "name": "stdout",
     "output_type": "stream",
     "text": [
      "BernoulliNB(binarize=True)\n",
      "0.5\n",
      "0.5\n",
      "0.5\n",
      "0.5\n",
      "0.0\n"
     ]
    }
   ],
   "source": [
    "# Initiate the Bernoulli Naive Bayes Model\n",
    "BernNB = BernoulliNB(binarize=True)\n",
    "\n",
    "# Fit data into the Model\n",
    "BernNB.fit(X_train, y_train)\n",
    "\n",
    "# Print the model name to ensure that it works.\n",
    "print(BernNB)\n",
    "\n",
    "# Use model to predict subreddit classifcation\n",
    "y_pred = BernNB.predict(X_test)\n",
    "\n",
    "# Do a cross-Validation with number of folds = 5\n",
    "# Print the mean cross-validation score\n",
    "print(cross_val_score(BernNB, X_train, y_train, cv=5).mean())\n",
    "\n",
    "# Print the accuracy score for train set\n",
    "print(BernNB.score(X_train, y_train))\n",
    "\n",
    "# Print the accuracy score for test set\n",
    "print(BernNB.score(X_test,y_test))\n",
    "\n",
    "# Print accuracy score for y_pred compared to y_test\n",
    "print(accuracy_score(y_test, y_pred))\n",
    "\n",
    "# Print recall score for y_pred compared to y_test\n",
    "print(recall_score(y_test, y_pred))"
   ]
  },
  {
   "cell_type": "markdown",
   "metadata": {},
   "source": [
    "### Naive Bayes Modelling - Multinomial Naive Bayes"
   ]
  },
  {
   "cell_type": "code",
   "execution_count": 18,
   "metadata": {},
   "outputs": [
    {
     "name": "stdout",
     "output_type": "stream",
     "text": [
      "MultinomialNB()\n",
      "0.9525210084033613\n",
      "0.9852941176470589\n",
      "0.9313725490196079\n",
      "0.9313725490196079\n",
      "0.8823529411764706\n"
     ]
    }
   ],
   "source": [
    "# Initiate the Multinomial Naive Bayes Model\n",
    "MultiNB = MultinomialNB()\n",
    "\n",
    "# Fit data into the Model\n",
    "MultiNB.fit(X_train, y_train)\n",
    "\n",
    "# Print the model name to ensure that it works.\n",
    "print(MultiNB)\n",
    "\n",
    "# Use model to predict subreddit classifcation\n",
    "y_pred = MultiNB.predict(X_test)\n",
    "\n",
    "# Do a cross-Validation with number of folds = 5\n",
    "# Print the mean cross-validation score\n",
    "print(cross_val_score(MultiNB, X_train, y_train, cv=5).mean())\n",
    "\n",
    "# Print the accuracy score for train set\n",
    "print(MultiNB.score(X_train, y_train))\n",
    "\n",
    "# Print the accuracy score for test set\n",
    "print(MultiNB.score(X_test, y_test))\n",
    "\n",
    "# Print accuracy score for y_pred compared to y_test\n",
    "print(accuracy_score(y_test, y_pred))\n",
    "\n",
    "# Print recall score for y_pred compared to y_test\n",
    "print(recall_score(y_test, y_pred))"
   ]
  },
  {
   "cell_type": "markdown",
   "metadata": {},
   "source": [
    "### Naive Bayes Modelling - Gaussian Naive Bayes"
   ]
  },
  {
   "cell_type": "code",
   "execution_count": 19,
   "metadata": {
    "scrolled": true
   },
   "outputs": [
    {
     "name": "stdout",
     "output_type": "stream",
     "text": [
      "GaussianNB()\n",
      "0.7949579831932774\n",
      "0.973109243697479\n",
      "0.7784313725490196\n",
      "0.7784313725490196\n",
      "0.7901960784313725\n"
     ]
    }
   ],
   "source": [
    "# Initiate the Gaussian Naive Bayes Model\n",
    "GausNB = GaussianNB()\n",
    "\n",
    "# Fit data into the Model\n",
    "GausNB.fit(X_train, y_train)\n",
    "\n",
    "# Print the model name to ensure that it works.\n",
    "print(GausNB)\n",
    "\n",
    "# Use model to predict subreddit classifcation\n",
    "y_pred = GausNB.predict(X_test)\n",
    "\n",
    "# Do a cross-Validation with number of folds = 5\n",
    "# Print the mean cross-validation score\n",
    "print(cross_val_score(GausNB, X_train, y_train, cv=5).mean())\n",
    "\n",
    "# Print the accuracy score for train set\n",
    "print(GausNB.score(X_train, y_train))\n",
    "\n",
    "# Print the accuracy score for test set\n",
    "print(GausNB.score(X_test, y_test))\n",
    "\n",
    "# Print accuracy score for y_pred compared to y_test\n",
    "print(accuracy_score(y_test, y_pred))\n",
    "\n",
    "# Print recall score for y_pred compared to y_test\n",
    "print(recall_score(y_test, y_pred))"
   ]
  },
  {
   "cell_type": "markdown",
   "metadata": {},
   "source": [
    "|Different Types of Naive Bayes Model |Accuracy Score of Prediction |Recall Score of Prediction|\n",
    "|:---:|:---:|:---:|\n",
    "|**Bernoulli**|0.5|0.0|\n",
    "|**Multinomial**|0.962|0.941|\n",
    "|**Gaussian**|0.789|0.766|"
   ]
  },
  {
   "cell_type": "markdown",
   "metadata": {},
   "source": [
    "#### Out of all the 3 types of Naive Bayes Models, Multinomial Naive Bayes has the highest accuracy score and recall score to predict the y. Hence, Naive Bayes Model - Multinomial is used to compare with other model combinations."
   ]
  },
  {
   "cell_type": "markdown",
   "metadata": {},
   "source": [
    "## 4. Logistics Regression Model with dataframe from Count Vectorization"
   ]
  },
  {
   "cell_type": "markdown",
   "metadata": {},
   "source": [
    "### Model Prep - Create features matrix (X) & target vector (y) and Train-test Split"
   ]
  },
  {
   "cell_type": "code",
   "execution_count": 20,
   "metadata": {},
   "outputs": [],
   "source": [
    "# Create features matrix (X) and target vector (y)\n",
    "X = title_and_selftext_counts_df                     \n",
    "y = final_dataset['subreddit_']    "
   ]
  },
  {
   "cell_type": "code",
   "execution_count": 21,
   "metadata": {},
   "outputs": [],
   "source": [
    "# Train-test split is done with 70/30 split and stratifying the y\n",
    "X_train, X_test, y_train, y_test = train_test_split(X, y, test_size=.3, stratify=y)"
   ]
  },
  {
   "cell_type": "markdown",
   "metadata": {},
   "source": [
    "### Logistic Regression"
   ]
  },
  {
   "cell_type": "code",
   "execution_count": 22,
   "metadata": {},
   "outputs": [
    {
     "name": "stdout",
     "output_type": "stream",
     "text": [
      "LogisticRegression(solver='liblinear')\n",
      "0.9567226890756302\n",
      "1.0\n",
      "0.9450980392156862\n",
      "0.9450980392156862\n",
      "0.9549019607843138\n"
     ]
    }
   ],
   "source": [
    "# Initiate the Logistic Regression Model\n",
    "LogReg = LogisticRegression(solver='liblinear')\n",
    "\n",
    "# Fit data into the Model\n",
    "LogReg.fit(X_train, y_train)\n",
    "\n",
    "# Print the model name to ensure that it works.\n",
    "print(LogReg)\n",
    "\n",
    "# Use model to predict subreddit classifcation\n",
    "y_pred = LogReg.predict(X_test)\n",
    "\n",
    "# Do a cross-Validation with number of folds = 5\n",
    "# Print the mean cross-validation score\n",
    "print(cross_val_score(LogReg, X_train, y_train, cv=5).mean())\n",
    "\n",
    "# Print the accuracy score for train set\n",
    "print(LogReg.score(X_train, y_train))\n",
    "\n",
    "# Print the accuracy score for test set\n",
    "print(LogReg.score(X_test, y_test))\n",
    "\n",
    "# Print accuracy score for y_pred compared to y_test\n",
    "print(accuracy_score(y_test, y_pred))\n",
    "\n",
    "# Print recall score for y_pred compared to y_test\n",
    "print(recall_score(y_test, y_pred))"
   ]
  },
  {
   "cell_type": "markdown",
   "metadata": {},
   "source": [
    "## 5. Logistics Regression Model with dataframe from TFIDF Vectorization"
   ]
  },
  {
   "cell_type": "markdown",
   "metadata": {},
   "source": [
    "### Model Prep - Create features matrix (X) & target vector (y) and Train-test Split"
   ]
  },
  {
   "cell_type": "code",
   "execution_count": 23,
   "metadata": {},
   "outputs": [],
   "source": [
    "# Create features matrix (X) and target vector (y)\n",
    "X = title_and_selftext_tfidf_df                     \n",
    "y = final_dataset['subreddit_']    "
   ]
  },
  {
   "cell_type": "code",
   "execution_count": 24,
   "metadata": {},
   "outputs": [],
   "source": [
    "# Train-test split is done with 70/30 split and stratifying the y\n",
    "X_train, X_test, y_train, y_test = train_test_split(X, y, test_size=.3, stratify=y)"
   ]
  },
  {
   "cell_type": "markdown",
   "metadata": {},
   "source": [
    "### Logistic Regression"
   ]
  },
  {
   "cell_type": "code",
   "execution_count": 25,
   "metadata": {},
   "outputs": [
    {
     "name": "stdout",
     "output_type": "stream",
     "text": [
      "LogisticRegression(solver='liblinear')\n",
      "0.9626050420168066\n",
      "0.9911764705882353\n",
      "0.9735294117647059\n",
      "0.9735294117647059\n",
      "0.9764705882352941\n"
     ]
    }
   ],
   "source": [
    "# Initiate the Logistic Regression Model\n",
    "LogReg = LogisticRegression(solver='liblinear')\n",
    "\n",
    "# Fit data into the Model\n",
    "LogReg.fit(X_train, y_train)\n",
    "\n",
    "# Print the model name to ensure that it works.\n",
    "print(LogReg)\n",
    "\n",
    "# Use model to predict subreddit classifcation\n",
    "y_pred = LogReg.predict(X_test)\n",
    "\n",
    "# Do a cross-Validation with number of folds = 5\n",
    "# Print the mean cross-validation score\n",
    "print(cross_val_score(LogReg, X_train, y_train, cv=5).mean())\n",
    "\n",
    "# Print the accuracy score for train set\n",
    "print(LogReg.score(X_train, y_train))\n",
    "\n",
    "# Print the accuracy score for test set\n",
    "print(LogReg.score(X_test, y_test))\n",
    "\n",
    "# Print accuracy score for y_pred compared to y_test\n",
    "print(accuracy_score(y_test, y_pred))\n",
    "\n",
    "# Print recall score for y_pred compared to y_test\n",
    "print(recall_score(y_test, y_pred))"
   ]
  },
  {
   "cell_type": "markdown",
   "metadata": {},
   "source": [
    "## 6. Model Chosen Based on Accuracy Score and Recall Score of Prediction"
   ]
  },
  {
   "cell_type": "markdown",
   "metadata": {},
   "source": [
    "|Types of Vectorization Used |Types of Model Used for Prediction |Accuracy Score of Prediction | Recall Score of Prediction|\n",
    "|:---:|:---:|:---:|:---:|\n",
    "|**Count Vectorization**|**Multinomial Naive Bayes Model**|0.932|0.873|\n",
    "|**TFIDF Vectorization**|**Multinomial Naive Bayes Model**|0.962|0.941|\n",
    "|**Count Vectorization**|**Logistic Regression Model**|0.959|0.967|\n",
    "|**TFIDF Vectorization**|**Logistic Regression Model**|0.981|0.984|"
   ]
  },
  {
   "cell_type": "markdown",
   "metadata": {},
   "source": [
    "#### Out of the 4 Vectorization Type-Model Type combination, Logistic Regression used on dataframe from TFIDF Vectorization gives the highest accuracy score and recall score. Hence, this particular combination will be used for the model evaluation below."
   ]
  },
  {
   "cell_type": "markdown",
   "metadata": {},
   "source": [
    "# Model Evaluation"
   ]
  },
  {
   "cell_type": "markdown",
   "metadata": {},
   "source": [
    "## Logistics Regression Model with dataframe from TFIDF Vectorization"
   ]
  },
  {
   "cell_type": "code",
   "execution_count": 26,
   "metadata": {},
   "outputs": [
    {
     "name": "stdout",
     "output_type": "stream",
     "text": [
      "              precision    recall  f1-score   support\n",
      "\n",
      "           0       0.98      0.97      0.97       510\n",
      "           1       0.97      0.98      0.97       510\n",
      "\n",
      "    accuracy                           0.97      1020\n",
      "   macro avg       0.97      0.97      0.97      1020\n",
      "weighted avg       0.97      0.97      0.97      1020\n",
      "\n"
     ]
    }
   ],
   "source": [
    "# The logistic Regression Model have being declared directly above using TFIDF Vectorization dataframe\n",
    "# Generate classification report\n",
    "print(classification_report(y_test, y_pred))"
   ]
  },
  {
   "cell_type": "markdown",
   "metadata": {},
   "source": [
    "#### Generate Confusion Matrix"
   ]
  },
  {
   "cell_type": "code",
   "execution_count": 27,
   "metadata": {},
   "outputs": [
    {
     "name": "stdout",
     "output_type": "stream",
     "text": [
      "accuracy score : 0.9735294117647059\n",
      "precision score : 0.9707602339181286\n",
      "recall score : 0.9764705882352941\n",
      "specificity score : 0.9705882352941176\n"
     ]
    }
   ],
   "source": [
    "# Generate cconfusion matrix\n",
    "cm = confusion_matrix(y_test,y_pred)\n",
    "\n",
    "# calculate accuracy, precision, recall(sensitivity) and specificity\n",
    "tn, fp, fn, tp = cm.ravel()\n",
    "\n",
    "acc_score = accuracy_score(y_test, y_pred)        # true predictions / total predictions\n",
    "prec_score = precision_score(y_test, y_pred)      # true positives / (true positives + false positives)\n",
    "rec_score = recall_score(y_test, y_pred)          # true positives / (true positives + false negatives)\n",
    "spec_score = tn / (tn+fp)                         # true negative rate\n",
    "\n",
    "print(\"accuracy score : \" + str(acc_score))\n",
    "print(\"precision score : \" + str(prec_score))\n",
    "print(\"recall score : \" + str(rec_score))\n",
    "print(\"specificity score : \" + str(spec_score))"
   ]
  },
  {
   "cell_type": "code",
   "execution_count": 28,
   "metadata": {},
   "outputs": [
    {
     "data": {
      "image/png": "[encoded data removed]",
      "text/plain": [
       "<Figure size 864x864 with 2 Axes>"
      ]
     },
     "metadata": {
      "needs_background": "light"
     },
     "output_type": "display_data"
    }
   ],
   "source": [
    "# Create modified labels for confusion matrix\n",
    "modified_cm = []\n",
    "\n",
    "for index,value in enumerate(cm):\n",
    "    if index == 0:\n",
    "        modified_cm.append(['TN = ' + str(value[0]), 'FP = ' + str(value[1])])\n",
    "    if index == 1:\n",
    "        modified_cm.append(['FN = ' + str(value[0]), 'TP = ' + str(value[1])])   \n",
    "\n",
    "# Plot confusion matrix\n",
    "plt.figure(figsize=(12,12))\n",
    "ax = sns.heatmap(cm, annot=np.array(modified_cm),\n",
    "            fmt=\"\",\n",
    "            annot_kws={\"size\":20},\n",
    "            linewidths=.5,\n",
    "            square = True,\n",
    "            cmap = 'Blues',\n",
    "            xticklabels = ['r/cryptocurrency','r/stocks'],\n",
    "            yticklabels = ['r/cryptocurrency','r/stocks']);\n",
    "\n",
    "# Set x and y labels\n",
    "plt.xlabel('Predicted Subreddit', labelpad=20, fontsize = 17);\n",
    "plt.ylabel('Actual Subreddit', labelpad=20, fontsize = 17);\n",
    "\n",
    "# Set tick labels\n",
    "ax.set_xticklabels(ax.get_xmajorticklabels(), fontsize = 14)\n",
    "ax.set_yticklabels(ax.get_ymajorticklabels(), fontsize = 14, rotation = 0)\n",
    "\n",
    "# Set title and subtitle \n",
    "ax.text(x=0.5, y=1.2, s='Confusion Matrix for Logistic Regression Model Using TFIDF Vectorization', \n",
    "        fontsize=20, weight='bold', ha='center', va='bottom', transform=ax.transAxes)\n",
    "ax.text(x=0.5, y=1.0, s='Accuracy Score: {:.3f}'.format(acc_score) + '\\n' \n",
    "         + 'Precision: {:.3f}'.format(prec_score) + '\\n'\n",
    "         + 'Recall: {:.3f}'.format(rec_score) + '\\n', \n",
    "        fontsize=15, alpha=0.9, ha='center', va='bottom', transform=ax.transAxes);"
   ]
  },
  {
   "cell_type": "markdown",
   "metadata": {},
   "source": [
    "The model is strong.\n",
    "\n",
    "Accurate classification > 98% of the time; 1001 out of 1020 predictions\n",
    " \n",
    "Sensitive classification  ~98% relevant post detected\n",
    "\n",
    "Out of 510 relevant posts, only 19 will be mis-labelled (~3%)\n"
   ]
  },
  {
   "cell_type": "markdown",
   "metadata": {},
   "source": [
    "#### Find out Keywords for Classification via Logistic Regression"
   ]
  },
  {
   "cell_type": "code",
   "execution_count": 29,
   "metadata": {},
   "outputs": [
    {
     "data": {
      "image/png": "[encoded data removed]",
      "text/plain": [
       "<Figure size 1080x504 with 1 Axes>"
      ]
     },
     "metadata": {
      "needs_background": "light"
     },
     "output_type": "display_data"
    }
   ],
   "source": [
    "# Flatten the coefficients into a single array\n",
    "coef_array = np.ravel(LogReg.coef_)\n",
    "# Zip the feature names and coefficients for attribution and store data in data frame\n",
    "coef = list(zip(title_and_selftext_tfidf_df.columns, coef_array))\n",
    "coef_df = pd.DataFrame(coef, columns=[\"word\",\"coefficient\"])\n",
    "# Create a new column to measure magnitude/ size of coefficients without considering whether it is +ve/-ve\n",
    "coef_df[\"abs_coefficient\"] = abs(coef_df[\"coefficient\"])\n",
    "coef_df.set_index(\"word\", inplace=True)\n",
    "plt.title(\"Keywords for the classification exercise\", fontsize=15)\n",
    "coef_df.sort_values(by=[\"abs_coefficient\"], ascending=False)[\"coefficient\"].head(20).plot.bar(figsize=(15, 7))\n",
    "plt.ylabel(\"magnitude of coefficients\");"
   ]
  },
  {
   "cell_type": "markdown",
   "metadata": {},
   "source": [
    "Some keywords are strong predictors of a post’s relevance to r/stocks or r/CryptoCurrency:\n",
    "\n",
    "    Keywords for r/stocks: Stock, company, share, etf\n",
    "    \n",
    "    Keywords for r/CryptoCurrency: Crypto, coin, bitcoin, btc, eth"
   ]
  },
  {
   "cell_type": "markdown",
   "metadata": {},
   "source": [
    "# Recommendations"
   ]
  },
  {
   "cell_type": "markdown",
   "metadata": {},
   "source": [
    "1. Deploy the model for testing with live data\n",
    "\n",
    "Given the strong performance of the model (98% accuracy score and 98% sensitivity score), we can benefit from deploying the model for pilot testing on the reddit platform. \n",
    "\n",
    "2. Flag posts classified as irrelevant for moderators' assessment\n",
    "\n",
    "There is a risk of incurring user frustrations if relevant posts are removed as a result of the model misclassification. To minimize wrongful post(s) removal, we can use the model's recommendation to flag posts for moderators' consideration. \n",
    "\n",
    "3. Share keywords insights with the moderators\n",
    "\n",
    "This can help moderators set rules for content posting using the AutoModerator to ensure irrelevant topics will not be posted within the community. "
   ]
  },
  {
   "cell_type": "markdown",
   "metadata": {},
   "source": [
    "# Future Steps"
   ]
  },
  {
   "cell_type": "markdown",
   "metadata": {},
   "source": [
    "1. Collect data samples across a longer time (e.g. the past year) for training and model optimisation to pre-empt risk that the topics of discussion and keywords may change across different times of the year \n",
    "\n",
    "\n",
    "2. Train the data using irrelevant posts from more than one source\n",
    "\n",
    "\n",
    "3. Train and further optimise the model for production across more subreddit communities "
   ]
  }
 ],
 "metadata": {
  "kernelspec": {
   "display_name": "Python 3",
   "language": "python",
   "name": "python3"
  },
  "language_info": {
   "codemirror_mode": {
    "name": "ipython",
    "version": 3
   },
   "file_extension": ".py",
   "mimetype": "text/x-python",
   "name": "python",
   "nbconvert_exporter": "python",
   "pygments_lexer": "ipython3",
   "version": "3.8.5"
  }
 },
 "nbformat": 4,
 "nbformat_minor": 4
}
